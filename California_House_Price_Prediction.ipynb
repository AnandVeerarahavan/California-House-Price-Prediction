{
  "nbformat": 4,
  "nbformat_minor": 0,
  "metadata": {
    "colab": {
      "name": "California House Price Prediction.ipynb",
      "provenance": []
    },
    "kernelspec": {
      "name": "python3",
      "display_name": "Python 3"
    },
    "language_info": {
      "name": "python"
    }
  },
  "cells": [
    {
      "cell_type": "code",
      "metadata": {
        "id": "ZxE_ut11U_Z_"
      },
      "source": [
        "import pandas as pd\n",
        "import numpy as np \n",
        "import seaborn as sns\n",
        "import matplotlib.pyplot as plt"
      ],
      "execution_count": 2,
      "outputs": []
    },
    {
      "cell_type": "code",
      "metadata": {
        "id": "C6VUxn9aWqBh"
      },
      "source": [
        "housing_pd = pd.read_csv('/content/drive/MyDrive/Datasets/California housing.csv')"
      ],
      "execution_count": 3,
      "outputs": []
    },
    {
      "cell_type": "code",
      "metadata": {
        "colab": {
          "base_uri": "https://localhost:8080/",
          "height": 204
        },
        "id": "uEeRcPJOYFt2",
        "outputId": "caa94c0e-0372-4c2c-e2d8-82229bc9ec3f"
      },
      "source": [
        "housing_pd.head()"
      ],
      "execution_count": 4,
      "outputs": [
        {
          "output_type": "execute_result",
          "data": {
            "text/html": [
              "<div>\n",
              "<style scoped>\n",
              "    .dataframe tbody tr th:only-of-type {\n",
              "        vertical-align: middle;\n",
              "    }\n",
              "\n",
              "    .dataframe tbody tr th {\n",
              "        vertical-align: top;\n",
              "    }\n",
              "\n",
              "    .dataframe thead th {\n",
              "        text-align: right;\n",
              "    }\n",
              "</style>\n",
              "<table border=\"1\" class=\"dataframe\">\n",
              "  <thead>\n",
              "    <tr style=\"text-align: right;\">\n",
              "      <th></th>\n",
              "      <th>longitude</th>\n",
              "      <th>latitude</th>\n",
              "      <th>housing_median_age</th>\n",
              "      <th>total_rooms</th>\n",
              "      <th>total_bedrooms</th>\n",
              "      <th>population</th>\n",
              "      <th>households</th>\n",
              "      <th>median_income</th>\n",
              "      <th>median_house_value</th>\n",
              "      <th>ocean_proximity</th>\n",
              "    </tr>\n",
              "  </thead>\n",
              "  <tbody>\n",
              "    <tr>\n",
              "      <th>0</th>\n",
              "      <td>-122.23</td>\n",
              "      <td>37.88</td>\n",
              "      <td>41.0</td>\n",
              "      <td>880.0</td>\n",
              "      <td>129.0</td>\n",
              "      <td>322.0</td>\n",
              "      <td>126.0</td>\n",
              "      <td>8.3252</td>\n",
              "      <td>452600.0</td>\n",
              "      <td>NEAR BAY</td>\n",
              "    </tr>\n",
              "    <tr>\n",
              "      <th>1</th>\n",
              "      <td>-122.22</td>\n",
              "      <td>37.86</td>\n",
              "      <td>21.0</td>\n",
              "      <td>7099.0</td>\n",
              "      <td>1106.0</td>\n",
              "      <td>2401.0</td>\n",
              "      <td>1138.0</td>\n",
              "      <td>8.3014</td>\n",
              "      <td>358500.0</td>\n",
              "      <td>NEAR BAY</td>\n",
              "    </tr>\n",
              "    <tr>\n",
              "      <th>2</th>\n",
              "      <td>-122.24</td>\n",
              "      <td>37.85</td>\n",
              "      <td>52.0</td>\n",
              "      <td>1467.0</td>\n",
              "      <td>190.0</td>\n",
              "      <td>496.0</td>\n",
              "      <td>177.0</td>\n",
              "      <td>7.2574</td>\n",
              "      <td>352100.0</td>\n",
              "      <td>NEAR BAY</td>\n",
              "    </tr>\n",
              "    <tr>\n",
              "      <th>3</th>\n",
              "      <td>-122.25</td>\n",
              "      <td>37.85</td>\n",
              "      <td>52.0</td>\n",
              "      <td>1274.0</td>\n",
              "      <td>235.0</td>\n",
              "      <td>558.0</td>\n",
              "      <td>219.0</td>\n",
              "      <td>5.6431</td>\n",
              "      <td>341300.0</td>\n",
              "      <td>NEAR BAY</td>\n",
              "    </tr>\n",
              "    <tr>\n",
              "      <th>4</th>\n",
              "      <td>-122.25</td>\n",
              "      <td>37.85</td>\n",
              "      <td>52.0</td>\n",
              "      <td>1627.0</td>\n",
              "      <td>280.0</td>\n",
              "      <td>565.0</td>\n",
              "      <td>259.0</td>\n",
              "      <td>3.8462</td>\n",
              "      <td>342200.0</td>\n",
              "      <td>NEAR BAY</td>\n",
              "    </tr>\n",
              "  </tbody>\n",
              "</table>\n",
              "</div>"
            ],
            "text/plain": [
              "   longitude  latitude  ...  median_house_value  ocean_proximity\n",
              "0    -122.23     37.88  ...            452600.0         NEAR BAY\n",
              "1    -122.22     37.86  ...            358500.0         NEAR BAY\n",
              "2    -122.24     37.85  ...            352100.0         NEAR BAY\n",
              "3    -122.25     37.85  ...            341300.0         NEAR BAY\n",
              "4    -122.25     37.85  ...            342200.0         NEAR BAY\n",
              "\n",
              "[5 rows x 10 columns]"
            ]
          },
          "metadata": {},
          "execution_count": 4
        }
      ]
    },
    {
      "cell_type": "code",
      "metadata": {
        "colab": {
          "base_uri": "https://localhost:8080/"
        },
        "id": "Ic74DlfAYHj1",
        "outputId": "2a00800d-06d0-4bc9-835e-59ad4aaacf2a"
      },
      "source": [
        "housing_pd['ocean_proximity'].value_counts()"
      ],
      "execution_count": 5,
      "outputs": [
        {
          "output_type": "execute_result",
          "data": {
            "text/plain": [
              "<1H OCEAN     9136\n",
              "INLAND        6551\n",
              "NEAR OCEAN    2658\n",
              "NEAR BAY      2290\n",
              "ISLAND           5\n",
              "Name: ocean_proximity, dtype: int64"
            ]
          },
          "metadata": {},
          "execution_count": 5
        }
      ]
    },
    {
      "cell_type": "code",
      "metadata": {
        "colab": {
          "base_uri": "https://localhost:8080/"
        },
        "id": "2aWPlb2UZ3xs",
        "outputId": "0f359cac-cf17-4d72-8260-39ea129ac327"
      },
      "source": [
        "housing_pd.shape"
      ],
      "execution_count": 6,
      "outputs": [
        {
          "output_type": "execute_result",
          "data": {
            "text/plain": [
              "(20640, 10)"
            ]
          },
          "metadata": {},
          "execution_count": 6
        }
      ]
    },
    {
      "cell_type": "code",
      "metadata": {
        "colab": {
          "base_uri": "https://localhost:8080/"
        },
        "id": "Cb3i6lzTZr3S",
        "outputId": "915c080b-a4b6-4c82-c148-d245f170d113"
      },
      "source": [
        "housing_pd_shuffled = housing_pd.sample(n=len(housing_pd),random_state=1)\n",
        "housing_pd_shuffled.shape"
      ],
      "execution_count": 7,
      "outputs": [
        {
          "output_type": "execute_result",
          "data": {
            "text/plain": [
              "(20640, 10)"
            ]
          },
          "metadata": {},
          "execution_count": 7
        }
      ]
    },
    {
      "cell_type": "code",
      "metadata": {
        "colab": {
          "base_uri": "https://localhost:8080/",
          "height": 204
        },
        "id": "sznlU6_0Z6mf",
        "outputId": "54a65ad8-99e6-40b1-83e3-3f322db2af28"
      },
      "source": [
        "pd.get_dummies(housing_pd_shuffled['ocean_proximity']).head()"
      ],
      "execution_count": 8,
      "outputs": [
        {
          "output_type": "execute_result",
          "data": {
            "text/html": [
              "<div>\n",
              "<style scoped>\n",
              "    .dataframe tbody tr th:only-of-type {\n",
              "        vertical-align: middle;\n",
              "    }\n",
              "\n",
              "    .dataframe tbody tr th {\n",
              "        vertical-align: top;\n",
              "    }\n",
              "\n",
              "    .dataframe thead th {\n",
              "        text-align: right;\n",
              "    }\n",
              "</style>\n",
              "<table border=\"1\" class=\"dataframe\">\n",
              "  <thead>\n",
              "    <tr style=\"text-align: right;\">\n",
              "      <th></th>\n",
              "      <th>&lt;1H OCEAN</th>\n",
              "      <th>INLAND</th>\n",
              "      <th>ISLAND</th>\n",
              "      <th>NEAR BAY</th>\n",
              "      <th>NEAR OCEAN</th>\n",
              "    </tr>\n",
              "  </thead>\n",
              "  <tbody>\n",
              "    <tr>\n",
              "      <th>4712</th>\n",
              "      <td>1</td>\n",
              "      <td>0</td>\n",
              "      <td>0</td>\n",
              "      <td>0</td>\n",
              "      <td>0</td>\n",
              "    </tr>\n",
              "    <tr>\n",
              "      <th>2151</th>\n",
              "      <td>0</td>\n",
              "      <td>1</td>\n",
              "      <td>0</td>\n",
              "      <td>0</td>\n",
              "      <td>0</td>\n",
              "    </tr>\n",
              "    <tr>\n",
              "      <th>15927</th>\n",
              "      <td>0</td>\n",
              "      <td>0</td>\n",
              "      <td>0</td>\n",
              "      <td>1</td>\n",
              "      <td>0</td>\n",
              "    </tr>\n",
              "    <tr>\n",
              "      <th>82</th>\n",
              "      <td>0</td>\n",
              "      <td>0</td>\n",
              "      <td>0</td>\n",
              "      <td>1</td>\n",
              "      <td>0</td>\n",
              "    </tr>\n",
              "    <tr>\n",
              "      <th>8161</th>\n",
              "      <td>1</td>\n",
              "      <td>0</td>\n",
              "      <td>0</td>\n",
              "      <td>0</td>\n",
              "      <td>0</td>\n",
              "    </tr>\n",
              "  </tbody>\n",
              "</table>\n",
              "</div>"
            ],
            "text/plain": [
              "       <1H OCEAN  INLAND  ISLAND  NEAR BAY  NEAR OCEAN\n",
              "4712           1       0       0         0           0\n",
              "2151           0       1       0         0           0\n",
              "15927          0       0       0         1           0\n",
              "82             0       0       0         1           0\n",
              "8161           1       0       0         0           0"
            ]
          },
          "metadata": {},
          "execution_count": 8
        }
      ]
    },
    {
      "cell_type": "code",
      "metadata": {
        "colab": {
          "base_uri": "https://localhost:8080/",
          "height": 204
        },
        "id": "mZuUVN0AaRNf",
        "outputId": "bf0ccb61-483e-4f4f-9031-e4d256984e41"
      },
      "source": [
        "housing_pd_shuffled.drop('ocean_proximity',axis = 1).head()"
      ],
      "execution_count": 9,
      "outputs": [
        {
          "output_type": "execute_result",
          "data": {
            "text/html": [
              "<div>\n",
              "<style scoped>\n",
              "    .dataframe tbody tr th:only-of-type {\n",
              "        vertical-align: middle;\n",
              "    }\n",
              "\n",
              "    .dataframe tbody tr th {\n",
              "        vertical-align: top;\n",
              "    }\n",
              "\n",
              "    .dataframe thead th {\n",
              "        text-align: right;\n",
              "    }\n",
              "</style>\n",
              "<table border=\"1\" class=\"dataframe\">\n",
              "  <thead>\n",
              "    <tr style=\"text-align: right;\">\n",
              "      <th></th>\n",
              "      <th>longitude</th>\n",
              "      <th>latitude</th>\n",
              "      <th>housing_median_age</th>\n",
              "      <th>total_rooms</th>\n",
              "      <th>total_bedrooms</th>\n",
              "      <th>population</th>\n",
              "      <th>households</th>\n",
              "      <th>median_income</th>\n",
              "      <th>median_house_value</th>\n",
              "    </tr>\n",
              "  </thead>\n",
              "  <tbody>\n",
              "    <tr>\n",
              "      <th>4712</th>\n",
              "      <td>-118.36</td>\n",
              "      <td>34.06</td>\n",
              "      <td>39.0</td>\n",
              "      <td>2810.0</td>\n",
              "      <td>670.0</td>\n",
              "      <td>1109.0</td>\n",
              "      <td>624.0</td>\n",
              "      <td>3.2500</td>\n",
              "      <td>355000.0</td>\n",
              "    </tr>\n",
              "    <tr>\n",
              "      <th>2151</th>\n",
              "      <td>-119.78</td>\n",
              "      <td>36.78</td>\n",
              "      <td>37.0</td>\n",
              "      <td>2185.0</td>\n",
              "      <td>455.0</td>\n",
              "      <td>1143.0</td>\n",
              "      <td>438.0</td>\n",
              "      <td>1.9784</td>\n",
              "      <td>70700.0</td>\n",
              "    </tr>\n",
              "    <tr>\n",
              "      <th>15927</th>\n",
              "      <td>-122.42</td>\n",
              "      <td>37.73</td>\n",
              "      <td>46.0</td>\n",
              "      <td>1819.0</td>\n",
              "      <td>411.0</td>\n",
              "      <td>1534.0</td>\n",
              "      <td>406.0</td>\n",
              "      <td>4.0132</td>\n",
              "      <td>229400.0</td>\n",
              "    </tr>\n",
              "    <tr>\n",
              "      <th>82</th>\n",
              "      <td>-122.28</td>\n",
              "      <td>37.81</td>\n",
              "      <td>52.0</td>\n",
              "      <td>340.0</td>\n",
              "      <td>97.0</td>\n",
              "      <td>200.0</td>\n",
              "      <td>87.0</td>\n",
              "      <td>1.5208</td>\n",
              "      <td>112500.0</td>\n",
              "    </tr>\n",
              "    <tr>\n",
              "      <th>8161</th>\n",
              "      <td>-118.13</td>\n",
              "      <td>33.82</td>\n",
              "      <td>37.0</td>\n",
              "      <td>1530.0</td>\n",
              "      <td>290.0</td>\n",
              "      <td>711.0</td>\n",
              "      <td>283.0</td>\n",
              "      <td>5.1795</td>\n",
              "      <td>225400.0</td>\n",
              "    </tr>\n",
              "  </tbody>\n",
              "</table>\n",
              "</div>"
            ],
            "text/plain": [
              "       longitude  latitude  ...  median_income  median_house_value\n",
              "4712     -118.36     34.06  ...         3.2500            355000.0\n",
              "2151     -119.78     36.78  ...         1.9784             70700.0\n",
              "15927    -122.42     37.73  ...         4.0132            229400.0\n",
              "82       -122.28     37.81  ...         1.5208            112500.0\n",
              "8161     -118.13     33.82  ...         5.1795            225400.0\n",
              "\n",
              "[5 rows x 9 columns]"
            ]
          },
          "metadata": {},
          "execution_count": 9
        }
      ]
    },
    {
      "cell_type": "code",
      "metadata": {
        "colab": {
          "base_uri": "https://localhost:8080/",
          "height": 456
        },
        "id": "21cU_Q-ia1W9",
        "outputId": "6c6673f2-46ef-4d9f-c66e-9786c642393e"
      },
      "source": [
        "housing_pd_final = pd.concat([housing_pd_shuffled.drop('ocean_proximity',axis = 1), pd.get_dummies(housing_pd_shuffled['ocean_proximity'])],axis = 1)\n",
        "housing_pd_final"
      ],
      "execution_count": 10,
      "outputs": [
        {
          "output_type": "execute_result",
          "data": {
            "text/html": [
              "<div>\n",
              "<style scoped>\n",
              "    .dataframe tbody tr th:only-of-type {\n",
              "        vertical-align: middle;\n",
              "    }\n",
              "\n",
              "    .dataframe tbody tr th {\n",
              "        vertical-align: top;\n",
              "    }\n",
              "\n",
              "    .dataframe thead th {\n",
              "        text-align: right;\n",
              "    }\n",
              "</style>\n",
              "<table border=\"1\" class=\"dataframe\">\n",
              "  <thead>\n",
              "    <tr style=\"text-align: right;\">\n",
              "      <th></th>\n",
              "      <th>longitude</th>\n",
              "      <th>latitude</th>\n",
              "      <th>housing_median_age</th>\n",
              "      <th>total_rooms</th>\n",
              "      <th>total_bedrooms</th>\n",
              "      <th>population</th>\n",
              "      <th>households</th>\n",
              "      <th>median_income</th>\n",
              "      <th>median_house_value</th>\n",
              "      <th>&lt;1H OCEAN</th>\n",
              "      <th>INLAND</th>\n",
              "      <th>ISLAND</th>\n",
              "      <th>NEAR BAY</th>\n",
              "      <th>NEAR OCEAN</th>\n",
              "    </tr>\n",
              "  </thead>\n",
              "  <tbody>\n",
              "    <tr>\n",
              "      <th>4712</th>\n",
              "      <td>-118.36</td>\n",
              "      <td>34.06</td>\n",
              "      <td>39.0</td>\n",
              "      <td>2810.0</td>\n",
              "      <td>670.0</td>\n",
              "      <td>1109.0</td>\n",
              "      <td>624.0</td>\n",
              "      <td>3.2500</td>\n",
              "      <td>355000.0</td>\n",
              "      <td>1</td>\n",
              "      <td>0</td>\n",
              "      <td>0</td>\n",
              "      <td>0</td>\n",
              "      <td>0</td>\n",
              "    </tr>\n",
              "    <tr>\n",
              "      <th>2151</th>\n",
              "      <td>-119.78</td>\n",
              "      <td>36.78</td>\n",
              "      <td>37.0</td>\n",
              "      <td>2185.0</td>\n",
              "      <td>455.0</td>\n",
              "      <td>1143.0</td>\n",
              "      <td>438.0</td>\n",
              "      <td>1.9784</td>\n",
              "      <td>70700.0</td>\n",
              "      <td>0</td>\n",
              "      <td>1</td>\n",
              "      <td>0</td>\n",
              "      <td>0</td>\n",
              "      <td>0</td>\n",
              "    </tr>\n",
              "    <tr>\n",
              "      <th>15927</th>\n",
              "      <td>-122.42</td>\n",
              "      <td>37.73</td>\n",
              "      <td>46.0</td>\n",
              "      <td>1819.0</td>\n",
              "      <td>411.0</td>\n",
              "      <td>1534.0</td>\n",
              "      <td>406.0</td>\n",
              "      <td>4.0132</td>\n",
              "      <td>229400.0</td>\n",
              "      <td>0</td>\n",
              "      <td>0</td>\n",
              "      <td>0</td>\n",
              "      <td>1</td>\n",
              "      <td>0</td>\n",
              "    </tr>\n",
              "    <tr>\n",
              "      <th>82</th>\n",
              "      <td>-122.28</td>\n",
              "      <td>37.81</td>\n",
              "      <td>52.0</td>\n",
              "      <td>340.0</td>\n",
              "      <td>97.0</td>\n",
              "      <td>200.0</td>\n",
              "      <td>87.0</td>\n",
              "      <td>1.5208</td>\n",
              "      <td>112500.0</td>\n",
              "      <td>0</td>\n",
              "      <td>0</td>\n",
              "      <td>0</td>\n",
              "      <td>1</td>\n",
              "      <td>0</td>\n",
              "    </tr>\n",
              "    <tr>\n",
              "      <th>8161</th>\n",
              "      <td>-118.13</td>\n",
              "      <td>33.82</td>\n",
              "      <td>37.0</td>\n",
              "      <td>1530.0</td>\n",
              "      <td>290.0</td>\n",
              "      <td>711.0</td>\n",
              "      <td>283.0</td>\n",
              "      <td>5.1795</td>\n",
              "      <td>225400.0</td>\n",
              "      <td>1</td>\n",
              "      <td>0</td>\n",
              "      <td>0</td>\n",
              "      <td>0</td>\n",
              "      <td>0</td>\n",
              "    </tr>\n",
              "    <tr>\n",
              "      <th>...</th>\n",
              "      <td>...</td>\n",
              "      <td>...</td>\n",
              "      <td>...</td>\n",
              "      <td>...</td>\n",
              "      <td>...</td>\n",
              "      <td>...</td>\n",
              "      <td>...</td>\n",
              "      <td>...</td>\n",
              "      <td>...</td>\n",
              "      <td>...</td>\n",
              "      <td>...</td>\n",
              "      <td>...</td>\n",
              "      <td>...</td>\n",
              "      <td>...</td>\n",
              "    </tr>\n",
              "    <tr>\n",
              "      <th>10955</th>\n",
              "      <td>-117.88</td>\n",
              "      <td>33.76</td>\n",
              "      <td>17.0</td>\n",
              "      <td>1768.0</td>\n",
              "      <td>474.0</td>\n",
              "      <td>1079.0</td>\n",
              "      <td>436.0</td>\n",
              "      <td>1.7823</td>\n",
              "      <td>205300.0</td>\n",
              "      <td>1</td>\n",
              "      <td>0</td>\n",
              "      <td>0</td>\n",
              "      <td>0</td>\n",
              "      <td>0</td>\n",
              "    </tr>\n",
              "    <tr>\n",
              "      <th>17289</th>\n",
              "      <td>-119.63</td>\n",
              "      <td>34.42</td>\n",
              "      <td>42.0</td>\n",
              "      <td>1765.0</td>\n",
              "      <td>263.0</td>\n",
              "      <td>753.0</td>\n",
              "      <td>260.0</td>\n",
              "      <td>8.5608</td>\n",
              "      <td>500001.0</td>\n",
              "      <td>1</td>\n",
              "      <td>0</td>\n",
              "      <td>0</td>\n",
              "      <td>0</td>\n",
              "      <td>0</td>\n",
              "    </tr>\n",
              "    <tr>\n",
              "      <th>5192</th>\n",
              "      <td>-118.26</td>\n",
              "      <td>33.93</td>\n",
              "      <td>42.0</td>\n",
              "      <td>1433.0</td>\n",
              "      <td>295.0</td>\n",
              "      <td>775.0</td>\n",
              "      <td>293.0</td>\n",
              "      <td>1.1326</td>\n",
              "      <td>104800.0</td>\n",
              "      <td>1</td>\n",
              "      <td>0</td>\n",
              "      <td>0</td>\n",
              "      <td>0</td>\n",
              "      <td>0</td>\n",
              "    </tr>\n",
              "    <tr>\n",
              "      <th>12172</th>\n",
              "      <td>-117.16</td>\n",
              "      <td>33.73</td>\n",
              "      <td>10.0</td>\n",
              "      <td>2381.0</td>\n",
              "      <td>454.0</td>\n",
              "      <td>1323.0</td>\n",
              "      <td>477.0</td>\n",
              "      <td>2.6322</td>\n",
              "      <td>140700.0</td>\n",
              "      <td>0</td>\n",
              "      <td>1</td>\n",
              "      <td>0</td>\n",
              "      <td>0</td>\n",
              "      <td>0</td>\n",
              "    </tr>\n",
              "    <tr>\n",
              "      <th>235</th>\n",
              "      <td>-122.20</td>\n",
              "      <td>37.79</td>\n",
              "      <td>35.0</td>\n",
              "      <td>1802.0</td>\n",
              "      <td>459.0</td>\n",
              "      <td>1009.0</td>\n",
              "      <td>390.0</td>\n",
              "      <td>2.3036</td>\n",
              "      <td>126000.0</td>\n",
              "      <td>0</td>\n",
              "      <td>0</td>\n",
              "      <td>0</td>\n",
              "      <td>1</td>\n",
              "      <td>0</td>\n",
              "    </tr>\n",
              "  </tbody>\n",
              "</table>\n",
              "<p>20640 rows × 14 columns</p>\n",
              "</div>"
            ],
            "text/plain": [
              "       longitude  latitude  housing_median_age  ...  ISLAND  NEAR BAY  NEAR OCEAN\n",
              "4712     -118.36     34.06                39.0  ...       0         0           0\n",
              "2151     -119.78     36.78                37.0  ...       0         0           0\n",
              "15927    -122.42     37.73                46.0  ...       0         1           0\n",
              "82       -122.28     37.81                52.0  ...       0         1           0\n",
              "8161     -118.13     33.82                37.0  ...       0         0           0\n",
              "...          ...       ...                 ...  ...     ...       ...         ...\n",
              "10955    -117.88     33.76                17.0  ...       0         0           0\n",
              "17289    -119.63     34.42                42.0  ...       0         0           0\n",
              "5192     -118.26     33.93                42.0  ...       0         0           0\n",
              "12172    -117.16     33.73                10.0  ...       0         0           0\n",
              "235      -122.20     37.79                35.0  ...       0         1           0\n",
              "\n",
              "[20640 rows x 14 columns]"
            ]
          },
          "metadata": {},
          "execution_count": 10
        }
      ]
    },
    {
      "cell_type": "code",
      "metadata": {
        "colab": {
          "base_uri": "https://localhost:8080/"
        },
        "id": "6o9iRvgvbuHt",
        "outputId": "41f6e9bf-531a-40d9-df1c-65fd658426cd"
      },
      "source": [
        "housing_pd_final.columns"
      ],
      "execution_count": 11,
      "outputs": [
        {
          "output_type": "execute_result",
          "data": {
            "text/plain": [
              "Index(['longitude', 'latitude', 'housing_median_age', 'total_rooms',\n",
              "       'total_bedrooms', 'population', 'households', 'median_income',\n",
              "       'median_house_value', '<1H OCEAN', 'INLAND', 'ISLAND', 'NEAR BAY',\n",
              "       'NEAR OCEAN'],\n",
              "      dtype='object')"
            ]
          },
          "metadata": {},
          "execution_count": 11
        }
      ]
    },
    {
      "cell_type": "code",
      "metadata": {
        "colab": {
          "base_uri": "https://localhost:8080/",
          "height": 456
        },
        "id": "TRes-bwFcbCy",
        "outputId": "1fde13b2-3056-4b8f-f563-69b513ad2f7b"
      },
      "source": [
        "housing_pd_final = housing_pd_final[['longitude','latitude',\n",
        "                                      'housing_median_age', 'total_rooms',\n",
        "                                      'total_bedrooms', 'population',\n",
        "                                      'households', 'median_income',\n",
        "                                      '<1H OCEAN','INLAND',\n",
        "                                      'ISLAND','NEAR BAY',\n",
        "                                      'NEAR OCEAN', 'median_house_value']]\n",
        "housing_pd_final"
      ],
      "execution_count": 12,
      "outputs": [
        {
          "output_type": "execute_result",
          "data": {
            "text/html": [
              "<div>\n",
              "<style scoped>\n",
              "    .dataframe tbody tr th:only-of-type {\n",
              "        vertical-align: middle;\n",
              "    }\n",
              "\n",
              "    .dataframe tbody tr th {\n",
              "        vertical-align: top;\n",
              "    }\n",
              "\n",
              "    .dataframe thead th {\n",
              "        text-align: right;\n",
              "    }\n",
              "</style>\n",
              "<table border=\"1\" class=\"dataframe\">\n",
              "  <thead>\n",
              "    <tr style=\"text-align: right;\">\n",
              "      <th></th>\n",
              "      <th>longitude</th>\n",
              "      <th>latitude</th>\n",
              "      <th>housing_median_age</th>\n",
              "      <th>total_rooms</th>\n",
              "      <th>total_bedrooms</th>\n",
              "      <th>population</th>\n",
              "      <th>households</th>\n",
              "      <th>median_income</th>\n",
              "      <th>&lt;1H OCEAN</th>\n",
              "      <th>INLAND</th>\n",
              "      <th>ISLAND</th>\n",
              "      <th>NEAR BAY</th>\n",
              "      <th>NEAR OCEAN</th>\n",
              "      <th>median_house_value</th>\n",
              "    </tr>\n",
              "  </thead>\n",
              "  <tbody>\n",
              "    <tr>\n",
              "      <th>4712</th>\n",
              "      <td>-118.36</td>\n",
              "      <td>34.06</td>\n",
              "      <td>39.0</td>\n",
              "      <td>2810.0</td>\n",
              "      <td>670.0</td>\n",
              "      <td>1109.0</td>\n",
              "      <td>624.0</td>\n",
              "      <td>3.2500</td>\n",
              "      <td>1</td>\n",
              "      <td>0</td>\n",
              "      <td>0</td>\n",
              "      <td>0</td>\n",
              "      <td>0</td>\n",
              "      <td>355000.0</td>\n",
              "    </tr>\n",
              "    <tr>\n",
              "      <th>2151</th>\n",
              "      <td>-119.78</td>\n",
              "      <td>36.78</td>\n",
              "      <td>37.0</td>\n",
              "      <td>2185.0</td>\n",
              "      <td>455.0</td>\n",
              "      <td>1143.0</td>\n",
              "      <td>438.0</td>\n",
              "      <td>1.9784</td>\n",
              "      <td>0</td>\n",
              "      <td>1</td>\n",
              "      <td>0</td>\n",
              "      <td>0</td>\n",
              "      <td>0</td>\n",
              "      <td>70700.0</td>\n",
              "    </tr>\n",
              "    <tr>\n",
              "      <th>15927</th>\n",
              "      <td>-122.42</td>\n",
              "      <td>37.73</td>\n",
              "      <td>46.0</td>\n",
              "      <td>1819.0</td>\n",
              "      <td>411.0</td>\n",
              "      <td>1534.0</td>\n",
              "      <td>406.0</td>\n",
              "      <td>4.0132</td>\n",
              "      <td>0</td>\n",
              "      <td>0</td>\n",
              "      <td>0</td>\n",
              "      <td>1</td>\n",
              "      <td>0</td>\n",
              "      <td>229400.0</td>\n",
              "    </tr>\n",
              "    <tr>\n",
              "      <th>82</th>\n",
              "      <td>-122.28</td>\n",
              "      <td>37.81</td>\n",
              "      <td>52.0</td>\n",
              "      <td>340.0</td>\n",
              "      <td>97.0</td>\n",
              "      <td>200.0</td>\n",
              "      <td>87.0</td>\n",
              "      <td>1.5208</td>\n",
              "      <td>0</td>\n",
              "      <td>0</td>\n",
              "      <td>0</td>\n",
              "      <td>1</td>\n",
              "      <td>0</td>\n",
              "      <td>112500.0</td>\n",
              "    </tr>\n",
              "    <tr>\n",
              "      <th>8161</th>\n",
              "      <td>-118.13</td>\n",
              "      <td>33.82</td>\n",
              "      <td>37.0</td>\n",
              "      <td>1530.0</td>\n",
              "      <td>290.0</td>\n",
              "      <td>711.0</td>\n",
              "      <td>283.0</td>\n",
              "      <td>5.1795</td>\n",
              "      <td>1</td>\n",
              "      <td>0</td>\n",
              "      <td>0</td>\n",
              "      <td>0</td>\n",
              "      <td>0</td>\n",
              "      <td>225400.0</td>\n",
              "    </tr>\n",
              "    <tr>\n",
              "      <th>...</th>\n",
              "      <td>...</td>\n",
              "      <td>...</td>\n",
              "      <td>...</td>\n",
              "      <td>...</td>\n",
              "      <td>...</td>\n",
              "      <td>...</td>\n",
              "      <td>...</td>\n",
              "      <td>...</td>\n",
              "      <td>...</td>\n",
              "      <td>...</td>\n",
              "      <td>...</td>\n",
              "      <td>...</td>\n",
              "      <td>...</td>\n",
              "      <td>...</td>\n",
              "    </tr>\n",
              "    <tr>\n",
              "      <th>10955</th>\n",
              "      <td>-117.88</td>\n",
              "      <td>33.76</td>\n",
              "      <td>17.0</td>\n",
              "      <td>1768.0</td>\n",
              "      <td>474.0</td>\n",
              "      <td>1079.0</td>\n",
              "      <td>436.0</td>\n",
              "      <td>1.7823</td>\n",
              "      <td>1</td>\n",
              "      <td>0</td>\n",
              "      <td>0</td>\n",
              "      <td>0</td>\n",
              "      <td>0</td>\n",
              "      <td>205300.0</td>\n",
              "    </tr>\n",
              "    <tr>\n",
              "      <th>17289</th>\n",
              "      <td>-119.63</td>\n",
              "      <td>34.42</td>\n",
              "      <td>42.0</td>\n",
              "      <td>1765.0</td>\n",
              "      <td>263.0</td>\n",
              "      <td>753.0</td>\n",
              "      <td>260.0</td>\n",
              "      <td>8.5608</td>\n",
              "      <td>1</td>\n",
              "      <td>0</td>\n",
              "      <td>0</td>\n",
              "      <td>0</td>\n",
              "      <td>0</td>\n",
              "      <td>500001.0</td>\n",
              "    </tr>\n",
              "    <tr>\n",
              "      <th>5192</th>\n",
              "      <td>-118.26</td>\n",
              "      <td>33.93</td>\n",
              "      <td>42.0</td>\n",
              "      <td>1433.0</td>\n",
              "      <td>295.0</td>\n",
              "      <td>775.0</td>\n",
              "      <td>293.0</td>\n",
              "      <td>1.1326</td>\n",
              "      <td>1</td>\n",
              "      <td>0</td>\n",
              "      <td>0</td>\n",
              "      <td>0</td>\n",
              "      <td>0</td>\n",
              "      <td>104800.0</td>\n",
              "    </tr>\n",
              "    <tr>\n",
              "      <th>12172</th>\n",
              "      <td>-117.16</td>\n",
              "      <td>33.73</td>\n",
              "      <td>10.0</td>\n",
              "      <td>2381.0</td>\n",
              "      <td>454.0</td>\n",
              "      <td>1323.0</td>\n",
              "      <td>477.0</td>\n",
              "      <td>2.6322</td>\n",
              "      <td>0</td>\n",
              "      <td>1</td>\n",
              "      <td>0</td>\n",
              "      <td>0</td>\n",
              "      <td>0</td>\n",
              "      <td>140700.0</td>\n",
              "    </tr>\n",
              "    <tr>\n",
              "      <th>235</th>\n",
              "      <td>-122.20</td>\n",
              "      <td>37.79</td>\n",
              "      <td>35.0</td>\n",
              "      <td>1802.0</td>\n",
              "      <td>459.0</td>\n",
              "      <td>1009.0</td>\n",
              "      <td>390.0</td>\n",
              "      <td>2.3036</td>\n",
              "      <td>0</td>\n",
              "      <td>0</td>\n",
              "      <td>0</td>\n",
              "      <td>1</td>\n",
              "      <td>0</td>\n",
              "      <td>126000.0</td>\n",
              "    </tr>\n",
              "  </tbody>\n",
              "</table>\n",
              "<p>20640 rows × 14 columns</p>\n",
              "</div>"
            ],
            "text/plain": [
              "       longitude  latitude  ...  NEAR OCEAN  median_house_value\n",
              "4712     -118.36     34.06  ...           0            355000.0\n",
              "2151     -119.78     36.78  ...           0             70700.0\n",
              "15927    -122.42     37.73  ...           0            229400.0\n",
              "82       -122.28     37.81  ...           0            112500.0\n",
              "8161     -118.13     33.82  ...           0            225400.0\n",
              "...          ...       ...  ...         ...                 ...\n",
              "10955    -117.88     33.76  ...           0            205300.0\n",
              "17289    -119.63     34.42  ...           0            500001.0\n",
              "5192     -118.26     33.93  ...           0            104800.0\n",
              "12172    -117.16     33.73  ...           0            140700.0\n",
              "235      -122.20     37.79  ...           0            126000.0\n",
              "\n",
              "[20640 rows x 14 columns]"
            ]
          },
          "metadata": {},
          "execution_count": 12
        }
      ]
    },
    {
      "cell_type": "code",
      "metadata": {
        "colab": {
          "base_uri": "https://localhost:8080/"
        },
        "id": "p3-9DZn3dQ3i",
        "outputId": "ee52f0a3-985b-4b5f-bfcc-8d012b3e6d69"
      },
      "source": [
        "housing_pd_final = housing_pd_final.dropna()\n",
        "housing_pd_final.shape"
      ],
      "execution_count": 13,
      "outputs": [
        {
          "output_type": "execute_result",
          "data": {
            "text/plain": [
              "(20433, 14)"
            ]
          },
          "metadata": {},
          "execution_count": 13
        }
      ]
    },
    {
      "cell_type": "code",
      "metadata": {
        "colab": {
          "base_uri": "https://localhost:8080/"
        },
        "id": "o-bW4gOwtsmV",
        "outputId": "d6fba0cb-7f78-4970-cd42-8a1d3ec8f936"
      },
      "source": [
        "train_pd, test_pd , val_pd = housing_pd_final[:18000], housing_pd_final[18000:19217], housing_pd_final[19215:]\n",
        "len(train_pd), len(test_pd), len(val_pd)\n"
      ],
      "execution_count": 14,
      "outputs": [
        {
          "output_type": "execute_result",
          "data": {
            "text/plain": [
              "(18000, 1217, 1218)"
            ]
          },
          "metadata": {},
          "execution_count": 14
        }
      ]
    },
    {
      "cell_type": "code",
      "metadata": {
        "colab": {
          "base_uri": "https://localhost:8080/"
        },
        "id": "-N1VfAURt87C",
        "outputId": "2c5642f7-051b-4261-cc0e-ab7605b48633"
      },
      "source": [
        "X_train , y_train = train_pd.to_numpy()[:,:-1], train_pd.to_numpy()[:,-1]\n",
        "print(\"X train\",X_train)\n",
        "print(\"*\"*30)\n",
        "print(\"y_train\",y_train)"
      ],
      "execution_count": 15,
      "outputs": [
        {
          "output_type": "stream",
          "name": "stdout",
          "text": [
            "X train [[-118.36   34.06   39.   ...    0.      0.      0.  ]\n",
            " [-119.78   36.78   37.   ...    0.      0.      0.  ]\n",
            " [-122.42   37.73   46.   ...    0.      1.      0.  ]\n",
            " ...\n",
            " [-118.38   34.07   21.   ...    0.      0.      0.  ]\n",
            " [-117.31   34.07   40.   ...    0.      0.      0.  ]\n",
            " [-117.72   33.62   21.   ...    0.      0.      0.  ]]\n",
            "******************************\n",
            "y_train [355000.  70700. 229400. ... 500001.  70900. 110000.]\n"
          ]
        }
      ]
    },
    {
      "cell_type": "code",
      "metadata": {
        "colab": {
          "base_uri": "https://localhost:8080/"
        },
        "id": "vDUmZXeLuneY",
        "outputId": "95e46429-9a6e-448d-fa83-6dba0cde0f5f"
      },
      "source": [
        "X_train.shape"
      ],
      "execution_count": 16,
      "outputs": [
        {
          "output_type": "execute_result",
          "data": {
            "text/plain": [
              "(18000, 13)"
            ]
          },
          "metadata": {},
          "execution_count": 16
        }
      ]
    },
    {
      "cell_type": "code",
      "metadata": {
        "colab": {
          "base_uri": "https://localhost:8080/"
        },
        "id": "nBg2YLY_u9Ff",
        "outputId": "c3a301bd-9ac2-4b53-d287-b5e13b9387d6"
      },
      "source": [
        "y_train.shape"
      ],
      "execution_count": 17,
      "outputs": [
        {
          "output_type": "execute_result",
          "data": {
            "text/plain": [
              "(18000,)"
            ]
          },
          "metadata": {},
          "execution_count": 17
        }
      ]
    },
    {
      "cell_type": "code",
      "metadata": {
        "colab": {
          "base_uri": "https://localhost:8080/"
        },
        "id": "ny5Gi8Q3u-8X",
        "outputId": "6bd6ab05-bfc6-40fa-e308-20a3ce4a001e"
      },
      "source": [
        "X_val , y_val = val_pd.to_numpy()[:,:-1], val_pd.to_numpy()[:,-1]\n",
        "print(\"X_val\",X_val)\n",
        "print(\"*\"*30)\n",
        "print(\"y_val\",y_val)"
      ],
      "execution_count": 18,
      "outputs": [
        {
          "output_type": "stream",
          "name": "stdout",
          "text": [
            "X_val [[-121.94   37.56   15.   ...    0.      0.      0.  ]\n",
            " [-122.58   38.12   13.   ...    0.      1.      0.  ]\n",
            " [-118.54   34.18   25.   ...    0.      0.      0.  ]\n",
            " ...\n",
            " [-118.26   33.93   42.   ...    0.      0.      0.  ]\n",
            " [-117.16   33.73   10.   ...    0.      0.      0.  ]\n",
            " [-122.2    37.79   35.   ...    0.      1.      0.  ]]\n",
            "******************************\n",
            "y_val [442900. 309500. 240300. ... 104800. 140700. 126000.]\n"
          ]
        }
      ]
    },
    {
      "cell_type": "code",
      "metadata": {
        "colab": {
          "base_uri": "https://localhost:8080/"
        },
        "id": "0rVPQQgyvbbW",
        "outputId": "aeecb83a-0fa4-4d44-a254-daff81815c89"
      },
      "source": [
        "X_val.shape"
      ],
      "execution_count": 19,
      "outputs": [
        {
          "output_type": "execute_result",
          "data": {
            "text/plain": [
              "(1218, 13)"
            ]
          },
          "metadata": {},
          "execution_count": 19
        }
      ]
    },
    {
      "cell_type": "code",
      "metadata": {
        "colab": {
          "base_uri": "https://localhost:8080/"
        },
        "id": "-XFPGIzlvc9-",
        "outputId": "806f16d6-d6ff-4bd6-fef0-aea4f834060e"
      },
      "source": [
        "y_val.shape"
      ],
      "execution_count": 20,
      "outputs": [
        {
          "output_type": "execute_result",
          "data": {
            "text/plain": [
              "(1218,)"
            ]
          },
          "metadata": {},
          "execution_count": 20
        }
      ]
    },
    {
      "cell_type": "code",
      "metadata": {
        "colab": {
          "base_uri": "https://localhost:8080/"
        },
        "id": "E2Itn7Fyve__",
        "outputId": "288376b1-248e-4b69-ef05-735ce1ed0987"
      },
      "source": [
        "X_test , y_test = test_pd.to_numpy()[:,:-1], test_pd.to_numpy()[:,-1]\n",
        "print(\"X_test\",X_test)\n",
        "print(\"*\"*30)\n",
        "print(\"y_test\",y_test)"
      ],
      "execution_count": 21,
      "outputs": [
        {
          "output_type": "stream",
          "name": "stdout",
          "text": [
            "X_test [[-121.99   37.26   17.   ...    0.      0.      0.  ]\n",
            " [-116.92   32.82   16.   ...    0.      0.      0.  ]\n",
            " [-117.65   34.08   38.   ...    0.      0.      0.  ]\n",
            " ...\n",
            " [-121.8    37.32   14.   ...    0.      0.      0.  ]\n",
            " [-121.94   37.56   15.   ...    0.      0.      0.  ]\n",
            " [-122.58   38.12   13.   ...    0.      1.      0.  ]]\n",
            "******************************\n",
            "y_test [442500. 184600. 144900. ... 227600. 442900. 309500.]\n"
          ]
        }
      ]
    },
    {
      "cell_type": "code",
      "metadata": {
        "colab": {
          "base_uri": "https://localhost:8080/"
        },
        "id": "ECHOReIzvpnO",
        "outputId": "c71af03e-9882-4997-ad42-db7de12fd792"
      },
      "source": [
        "X_test.shape"
      ],
      "execution_count": 22,
      "outputs": [
        {
          "output_type": "execute_result",
          "data": {
            "text/plain": [
              "(1217, 13)"
            ]
          },
          "metadata": {},
          "execution_count": 22
        }
      ]
    },
    {
      "cell_type": "code",
      "metadata": {
        "colab": {
          "base_uri": "https://localhost:8080/"
        },
        "id": "tS5wW7H5vvvN",
        "outputId": "b663b97d-1675-4607-9e29-5a1aecf85a59"
      },
      "source": [
        "y_test.shape"
      ],
      "execution_count": 23,
      "outputs": [
        {
          "output_type": "execute_result",
          "data": {
            "text/plain": [
              "(1217,)"
            ]
          },
          "metadata": {},
          "execution_count": 23
        }
      ]
    },
    {
      "cell_type": "code",
      "metadata": {
        "colab": {
          "base_uri": "https://localhost:8080/"
        },
        "id": "FeqNd313vyCl",
        "outputId": "6d8a8d60-81bc-4b64-d594-949f3d5f497d"
      },
      "source": [
        "print(X_train.shape, y_train.shape, X_val.shape, y_val.shape, X_test.shape, y_test.shape)"
      ],
      "execution_count": 24,
      "outputs": [
        {
          "output_type": "stream",
          "name": "stdout",
          "text": [
            "(18000, 13) (18000,) (1218, 13) (1218,) (1217, 13) (1217,)\n"
          ]
        }
      ]
    },
    {
      "cell_type": "code",
      "metadata": {
        "colab": {
          "base_uri": "https://localhost:8080/",
          "height": 317
        },
        "id": "nYpous_8wDJ0",
        "outputId": "e518e1db-c5e8-4424-ba37-753998a10c77"
      },
      "source": [
        "housing_pd_final.describe()"
      ],
      "execution_count": 25,
      "outputs": [
        {
          "output_type": "execute_result",
          "data": {
            "text/html": [
              "<div>\n",
              "<style scoped>\n",
              "    .dataframe tbody tr th:only-of-type {\n",
              "        vertical-align: middle;\n",
              "    }\n",
              "\n",
              "    .dataframe tbody tr th {\n",
              "        vertical-align: top;\n",
              "    }\n",
              "\n",
              "    .dataframe thead th {\n",
              "        text-align: right;\n",
              "    }\n",
              "</style>\n",
              "<table border=\"1\" class=\"dataframe\">\n",
              "  <thead>\n",
              "    <tr style=\"text-align: right;\">\n",
              "      <th></th>\n",
              "      <th>longitude</th>\n",
              "      <th>latitude</th>\n",
              "      <th>housing_median_age</th>\n",
              "      <th>total_rooms</th>\n",
              "      <th>total_bedrooms</th>\n",
              "      <th>population</th>\n",
              "      <th>households</th>\n",
              "      <th>median_income</th>\n",
              "      <th>&lt;1H OCEAN</th>\n",
              "      <th>INLAND</th>\n",
              "      <th>ISLAND</th>\n",
              "      <th>NEAR BAY</th>\n",
              "      <th>NEAR OCEAN</th>\n",
              "      <th>median_house_value</th>\n",
              "    </tr>\n",
              "  </thead>\n",
              "  <tbody>\n",
              "    <tr>\n",
              "      <th>count</th>\n",
              "      <td>20433.000000</td>\n",
              "      <td>20433.000000</td>\n",
              "      <td>20433.000000</td>\n",
              "      <td>20433.000000</td>\n",
              "      <td>20433.000000</td>\n",
              "      <td>20433.000000</td>\n",
              "      <td>20433.000000</td>\n",
              "      <td>20433.000000</td>\n",
              "      <td>20433.000000</td>\n",
              "      <td>20433.000000</td>\n",
              "      <td>20433.000000</td>\n",
              "      <td>20433.000000</td>\n",
              "      <td>20433.000000</td>\n",
              "      <td>20433.000000</td>\n",
              "    </tr>\n",
              "    <tr>\n",
              "      <th>mean</th>\n",
              "      <td>-119.570689</td>\n",
              "      <td>35.633221</td>\n",
              "      <td>28.633094</td>\n",
              "      <td>2636.504233</td>\n",
              "      <td>537.870553</td>\n",
              "      <td>1424.946949</td>\n",
              "      <td>499.433465</td>\n",
              "      <td>3.871162</td>\n",
              "      <td>0.442128</td>\n",
              "      <td>0.317917</td>\n",
              "      <td>0.000245</td>\n",
              "      <td>0.111095</td>\n",
              "      <td>0.128615</td>\n",
              "      <td>206864.413155</td>\n",
              "    </tr>\n",
              "    <tr>\n",
              "      <th>std</th>\n",
              "      <td>2.003578</td>\n",
              "      <td>2.136348</td>\n",
              "      <td>12.591805</td>\n",
              "      <td>2185.269567</td>\n",
              "      <td>421.385070</td>\n",
              "      <td>1133.208490</td>\n",
              "      <td>382.299226</td>\n",
              "      <td>1.899291</td>\n",
              "      <td>0.496652</td>\n",
              "      <td>0.465678</td>\n",
              "      <td>0.015641</td>\n",
              "      <td>0.314257</td>\n",
              "      <td>0.334782</td>\n",
              "      <td>115435.667099</td>\n",
              "    </tr>\n",
              "    <tr>\n",
              "      <th>min</th>\n",
              "      <td>-124.350000</td>\n",
              "      <td>32.540000</td>\n",
              "      <td>1.000000</td>\n",
              "      <td>2.000000</td>\n",
              "      <td>1.000000</td>\n",
              "      <td>3.000000</td>\n",
              "      <td>1.000000</td>\n",
              "      <td>0.499900</td>\n",
              "      <td>0.000000</td>\n",
              "      <td>0.000000</td>\n",
              "      <td>0.000000</td>\n",
              "      <td>0.000000</td>\n",
              "      <td>0.000000</td>\n",
              "      <td>14999.000000</td>\n",
              "    </tr>\n",
              "    <tr>\n",
              "      <th>25%</th>\n",
              "      <td>-121.800000</td>\n",
              "      <td>33.930000</td>\n",
              "      <td>18.000000</td>\n",
              "      <td>1450.000000</td>\n",
              "      <td>296.000000</td>\n",
              "      <td>787.000000</td>\n",
              "      <td>280.000000</td>\n",
              "      <td>2.563700</td>\n",
              "      <td>0.000000</td>\n",
              "      <td>0.000000</td>\n",
              "      <td>0.000000</td>\n",
              "      <td>0.000000</td>\n",
              "      <td>0.000000</td>\n",
              "      <td>119500.000000</td>\n",
              "    </tr>\n",
              "    <tr>\n",
              "      <th>50%</th>\n",
              "      <td>-118.490000</td>\n",
              "      <td>34.260000</td>\n",
              "      <td>29.000000</td>\n",
              "      <td>2127.000000</td>\n",
              "      <td>435.000000</td>\n",
              "      <td>1166.000000</td>\n",
              "      <td>409.000000</td>\n",
              "      <td>3.536500</td>\n",
              "      <td>0.000000</td>\n",
              "      <td>0.000000</td>\n",
              "      <td>0.000000</td>\n",
              "      <td>0.000000</td>\n",
              "      <td>0.000000</td>\n",
              "      <td>179700.000000</td>\n",
              "    </tr>\n",
              "    <tr>\n",
              "      <th>75%</th>\n",
              "      <td>-118.010000</td>\n",
              "      <td>37.720000</td>\n",
              "      <td>37.000000</td>\n",
              "      <td>3143.000000</td>\n",
              "      <td>647.000000</td>\n",
              "      <td>1722.000000</td>\n",
              "      <td>604.000000</td>\n",
              "      <td>4.744000</td>\n",
              "      <td>1.000000</td>\n",
              "      <td>1.000000</td>\n",
              "      <td>0.000000</td>\n",
              "      <td>0.000000</td>\n",
              "      <td>0.000000</td>\n",
              "      <td>264700.000000</td>\n",
              "    </tr>\n",
              "    <tr>\n",
              "      <th>max</th>\n",
              "      <td>-114.310000</td>\n",
              "      <td>41.950000</td>\n",
              "      <td>52.000000</td>\n",
              "      <td>39320.000000</td>\n",
              "      <td>6445.000000</td>\n",
              "      <td>35682.000000</td>\n",
              "      <td>6082.000000</td>\n",
              "      <td>15.000100</td>\n",
              "      <td>1.000000</td>\n",
              "      <td>1.000000</td>\n",
              "      <td>1.000000</td>\n",
              "      <td>1.000000</td>\n",
              "      <td>1.000000</td>\n",
              "      <td>500001.000000</td>\n",
              "    </tr>\n",
              "  </tbody>\n",
              "</table>\n",
              "</div>"
            ],
            "text/plain": [
              "          longitude      latitude  ...    NEAR OCEAN  median_house_value\n",
              "count  20433.000000  20433.000000  ...  20433.000000        20433.000000\n",
              "mean    -119.570689     35.633221  ...      0.128615       206864.413155\n",
              "std        2.003578      2.136348  ...      0.334782       115435.667099\n",
              "min     -124.350000     32.540000  ...      0.000000        14999.000000\n",
              "25%     -121.800000     33.930000  ...      0.000000       119500.000000\n",
              "50%     -118.490000     34.260000  ...      0.000000       179700.000000\n",
              "75%     -118.010000     37.720000  ...      0.000000       264700.000000\n",
              "max     -114.310000     41.950000  ...      1.000000       500001.000000\n",
              "\n",
              "[8 rows x 14 columns]"
            ]
          },
          "metadata": {},
          "execution_count": 25
        }
      ]
    },
    {
      "cell_type": "code",
      "metadata": {
        "id": "xSqME4cIwez7"
      },
      "source": [
        "from sklearn.preprocessing import StandardScaler"
      ],
      "execution_count": 26,
      "outputs": []
    },
    {
      "cell_type": "code",
      "metadata": {
        "id": "RiTATxyCw42y"
      },
      "source": [
        "scaler = StandardScaler().fit(X_train[:,:8])\n"
      ],
      "execution_count": 27,
      "outputs": []
    },
    {
      "cell_type": "code",
      "metadata": {
        "colab": {
          "base_uri": "https://localhost:8080/"
        },
        "id": "s8Ifmyx5x5Jv",
        "outputId": "9a2cc97d-72e7-4c06-cf47-93b7f21215bd"
      },
      "source": [
        "def preprocesser(X):\n",
        "  A = np.copy(X)\n",
        "  A[:,:8] = scaler.transform(A[:,:8])\n",
        "  return A\n",
        "\n",
        "X_train_preprocessed = preprocesser(X_train)\n",
        "X_train_preprocessed"
      ],
      "execution_count": 28,
      "outputs": [
        {
          "output_type": "execute_result",
          "data": {
            "text/plain": [
              "array([[ 0.60344338, -0.73607301,  0.82084451, ...,  0.        ,\n",
              "         0.        ,  0.        ],\n",
              "       [-0.10512186,  0.53710782,  0.66177382, ...,  0.        ,\n",
              "         0.        ,  0.        ],\n",
              "       [-1.42245442,  0.98178495,  1.37759191, ...,  0.        ,\n",
              "         1.        ,  0.        ],\n",
              "       ...,\n",
              "       [ 0.59346359, -0.7313922 , -0.61079167, ...,  0.        ,\n",
              "         0.        ,  0.        ],\n",
              "       [ 1.12738246, -0.7313922 ,  0.90037985, ...,  0.        ,\n",
              "         0.        ,  0.        ],\n",
              "       [ 0.92279673, -0.94202873, -0.61079167, ...,  0.        ,\n",
              "         0.        ,  0.        ]])"
            ]
          },
          "metadata": {},
          "execution_count": 28
        }
      ]
    },
    {
      "cell_type": "code",
      "metadata": {
        "colab": {
          "base_uri": "https://localhost:8080/",
          "height": 419
        },
        "id": "m6TpsO8pyXSu",
        "outputId": "6e3546be-a80a-4d9a-aebe-ea54f20777ea"
      },
      "source": [
        "pd.DataFrame(X_train_preprocessed)\n"
      ],
      "execution_count": 29,
      "outputs": [
        {
          "output_type": "execute_result",
          "data": {
            "text/html": [
              "<div>\n",
              "<style scoped>\n",
              "    .dataframe tbody tr th:only-of-type {\n",
              "        vertical-align: middle;\n",
              "    }\n",
              "\n",
              "    .dataframe tbody tr th {\n",
              "        vertical-align: top;\n",
              "    }\n",
              "\n",
              "    .dataframe thead th {\n",
              "        text-align: right;\n",
              "    }\n",
              "</style>\n",
              "<table border=\"1\" class=\"dataframe\">\n",
              "  <thead>\n",
              "    <tr style=\"text-align: right;\">\n",
              "      <th></th>\n",
              "      <th>0</th>\n",
              "      <th>1</th>\n",
              "      <th>2</th>\n",
              "      <th>3</th>\n",
              "      <th>4</th>\n",
              "      <th>5</th>\n",
              "      <th>6</th>\n",
              "      <th>7</th>\n",
              "      <th>8</th>\n",
              "      <th>9</th>\n",
              "      <th>10</th>\n",
              "      <th>11</th>\n",
              "      <th>12</th>\n",
              "    </tr>\n",
              "  </thead>\n",
              "  <tbody>\n",
              "    <tr>\n",
              "      <th>0</th>\n",
              "      <td>0.603443</td>\n",
              "      <td>-0.736073</td>\n",
              "      <td>0.820845</td>\n",
              "      <td>0.081039</td>\n",
              "      <td>0.315396</td>\n",
              "      <td>-0.276840</td>\n",
              "      <td>0.328234</td>\n",
              "      <td>-0.326667</td>\n",
              "      <td>1.0</td>\n",
              "      <td>0.0</td>\n",
              "      <td>0.0</td>\n",
              "      <td>0.0</td>\n",
              "      <td>0.0</td>\n",
              "    </tr>\n",
              "    <tr>\n",
              "      <th>1</th>\n",
              "      <td>-0.105122</td>\n",
              "      <td>0.537108</td>\n",
              "      <td>0.661774</td>\n",
              "      <td>-0.206526</td>\n",
              "      <td>-0.196843</td>\n",
              "      <td>-0.246809</td>\n",
              "      <td>-0.160526</td>\n",
              "      <td>-0.995001</td>\n",
              "      <td>0.0</td>\n",
              "      <td>1.0</td>\n",
              "      <td>0.0</td>\n",
              "      <td>0.0</td>\n",
              "      <td>0.0</td>\n",
              "    </tr>\n",
              "    <tr>\n",
              "      <th>2</th>\n",
              "      <td>-1.422454</td>\n",
              "      <td>0.981785</td>\n",
              "      <td>1.377592</td>\n",
              "      <td>-0.374924</td>\n",
              "      <td>-0.301674</td>\n",
              "      <td>0.098553</td>\n",
              "      <td>-0.244613</td>\n",
              "      <td>0.074459</td>\n",
              "      <td>0.0</td>\n",
              "      <td>0.0</td>\n",
              "      <td>0.0</td>\n",
              "      <td>1.0</td>\n",
              "      <td>0.0</td>\n",
              "    </tr>\n",
              "    <tr>\n",
              "      <th>3</th>\n",
              "      <td>-1.352596</td>\n",
              "      <td>1.019231</td>\n",
              "      <td>1.854804</td>\n",
              "      <td>-1.055419</td>\n",
              "      <td>-1.049782</td>\n",
              "      <td>-1.079740</td>\n",
              "      <td>-1.082862</td>\n",
              "      <td>-1.235508</td>\n",
              "      <td>0.0</td>\n",
              "      <td>0.0</td>\n",
              "      <td>0.0</td>\n",
              "      <td>1.0</td>\n",
              "      <td>0.0</td>\n",
              "    </tr>\n",
              "    <tr>\n",
              "      <th>4</th>\n",
              "      <td>0.718211</td>\n",
              "      <td>-0.848412</td>\n",
              "      <td>0.661774</td>\n",
              "      <td>-0.507894</td>\n",
              "      <td>-0.589957</td>\n",
              "      <td>-0.628385</td>\n",
              "      <td>-0.567825</td>\n",
              "      <td>0.687448</td>\n",
              "      <td>1.0</td>\n",
              "      <td>0.0</td>\n",
              "      <td>0.0</td>\n",
              "      <td>0.0</td>\n",
              "      <td>0.0</td>\n",
              "    </tr>\n",
              "    <tr>\n",
              "      <th>...</th>\n",
              "      <td>...</td>\n",
              "      <td>...</td>\n",
              "      <td>...</td>\n",
              "      <td>...</td>\n",
              "      <td>...</td>\n",
              "      <td>...</td>\n",
              "      <td>...</td>\n",
              "      <td>...</td>\n",
              "      <td>...</td>\n",
              "      <td>...</td>\n",
              "      <td>...</td>\n",
              "      <td>...</td>\n",
              "      <td>...</td>\n",
              "    </tr>\n",
              "    <tr>\n",
              "      <th>17995</th>\n",
              "      <td>0.728191</td>\n",
              "      <td>-0.815647</td>\n",
              "      <td>0.423168</td>\n",
              "      <td>-0.057912</td>\n",
              "      <td>0.134325</td>\n",
              "      <td>0.111802</td>\n",
              "      <td>0.120643</td>\n",
              "      <td>-0.349320</td>\n",
              "      <td>1.0</td>\n",
              "      <td>0.0</td>\n",
              "      <td>0.0</td>\n",
              "      <td>0.0</td>\n",
              "      <td>0.0</td>\n",
              "    </tr>\n",
              "    <tr>\n",
              "      <th>17996</th>\n",
              "      <td>-0.459404</td>\n",
              "      <td>0.785191</td>\n",
              "      <td>1.298057</td>\n",
              "      <td>-0.368023</td>\n",
              "      <td>-0.277849</td>\n",
              "      <td>-0.015390</td>\n",
              "      <td>-0.241986</td>\n",
              "      <td>-0.956265</td>\n",
              "      <td>0.0</td>\n",
              "      <td>1.0</td>\n",
              "      <td>0.0</td>\n",
              "      <td>0.0</td>\n",
              "      <td>0.0</td>\n",
              "    </tr>\n",
              "    <tr>\n",
              "      <th>17997</th>\n",
              "      <td>0.593464</td>\n",
              "      <td>-0.731392</td>\n",
              "      <td>-0.610792</td>\n",
              "      <td>0.468908</td>\n",
              "      <td>0.996794</td>\n",
              "      <td>0.077354</td>\n",
              "      <td>1.027213</td>\n",
              "      <td>-0.165155</td>\n",
              "      <td>1.0</td>\n",
              "      <td>0.0</td>\n",
              "      <td>0.0</td>\n",
              "      <td>0.0</td>\n",
              "      <td>0.0</td>\n",
              "    </tr>\n",
              "    <tr>\n",
              "      <th>17998</th>\n",
              "      <td>1.127382</td>\n",
              "      <td>-0.731392</td>\n",
              "      <td>0.900380</td>\n",
              "      <td>0.139013</td>\n",
              "      <td>0.463112</td>\n",
              "      <td>0.531359</td>\n",
              "      <td>0.464877</td>\n",
              "      <td>-0.923784</td>\n",
              "      <td>0.0</td>\n",
              "      <td>1.0</td>\n",
              "      <td>0.0</td>\n",
              "      <td>0.0</td>\n",
              "      <td>0.0</td>\n",
              "    </tr>\n",
              "    <tr>\n",
              "      <th>17999</th>\n",
              "      <td>0.922797</td>\n",
              "      <td>-0.942029</td>\n",
              "      <td>-0.610792</td>\n",
              "      <td>-0.143492</td>\n",
              "      <td>-0.046745</td>\n",
              "      <td>-0.671665</td>\n",
              "      <td>-0.110599</td>\n",
              "      <td>-0.369818</td>\n",
              "      <td>1.0</td>\n",
              "      <td>0.0</td>\n",
              "      <td>0.0</td>\n",
              "      <td>0.0</td>\n",
              "      <td>0.0</td>\n",
              "    </tr>\n",
              "  </tbody>\n",
              "</table>\n",
              "<p>18000 rows × 13 columns</p>\n",
              "</div>"
            ],
            "text/plain": [
              "             0         1         2         3   ...   9    10   11   12\n",
              "0      0.603443 -0.736073  0.820845  0.081039  ...  0.0  0.0  0.0  0.0\n",
              "1     -0.105122  0.537108  0.661774 -0.206526  ...  1.0  0.0  0.0  0.0\n",
              "2     -1.422454  0.981785  1.377592 -0.374924  ...  0.0  0.0  1.0  0.0\n",
              "3     -1.352596  1.019231  1.854804 -1.055419  ...  0.0  0.0  1.0  0.0\n",
              "4      0.718211 -0.848412  0.661774 -0.507894  ...  0.0  0.0  0.0  0.0\n",
              "...         ...       ...       ...       ...  ...  ...  ...  ...  ...\n",
              "17995  0.728191 -0.815647  0.423168 -0.057912  ...  0.0  0.0  0.0  0.0\n",
              "17996 -0.459404  0.785191  1.298057 -0.368023  ...  1.0  0.0  0.0  0.0\n",
              "17997  0.593464 -0.731392 -0.610792  0.468908  ...  0.0  0.0  0.0  0.0\n",
              "17998  1.127382 -0.731392  0.900380  0.139013  ...  1.0  0.0  0.0  0.0\n",
              "17999  0.922797 -0.942029 -0.610792 -0.143492  ...  0.0  0.0  0.0  0.0\n",
              "\n",
              "[18000 rows x 13 columns]"
            ]
          },
          "metadata": {},
          "execution_count": 29
        }
      ]
    },
    {
      "cell_type": "code",
      "metadata": {
        "colab": {
          "base_uri": "https://localhost:8080/",
          "height": 570
        },
        "id": "c_RW55uny9qm",
        "outputId": "85cf7232-db69-46eb-e130-35ebc370db5b"
      },
      "source": [
        "pd.DataFrame(X_train_preprocessed).hist()"
      ],
      "execution_count": 30,
      "outputs": [
        {
          "output_type": "execute_result",
          "data": {
            "text/plain": [
              "array([[<matplotlib.axes._subplots.AxesSubplot object at 0x7f82a20045d0>,\n",
              "        <matplotlib.axes._subplots.AxesSubplot object at 0x7f82a1fcec10>,\n",
              "        <matplotlib.axes._subplots.AxesSubplot object at 0x7f82a1f912d0>,\n",
              "        <matplotlib.axes._subplots.AxesSubplot object at 0x7f82a1f49950>],\n",
              "       [<matplotlib.axes._subplots.AxesSubplot object at 0x7f82a1efdfd0>,\n",
              "        <matplotlib.axes._subplots.AxesSubplot object at 0x7f82a1ec0690>,\n",
              "        <matplotlib.axes._subplots.AxesSubplot object at 0x7f82a1e75d10>,\n",
              "        <matplotlib.axes._subplots.AxesSubplot object at 0x7f82a1e363d0>],\n",
              "       [<matplotlib.axes._subplots.AxesSubplot object at 0x7f82a1e42110>,\n",
              "        <matplotlib.axes._subplots.AxesSubplot object at 0x7f82a1df88d0>,\n",
              "        <matplotlib.axes._subplots.AxesSubplot object at 0x7f82a1d64790>,\n",
              "        <matplotlib.axes._subplots.AxesSubplot object at 0x7f82a1d1ae10>],\n",
              "       [<matplotlib.axes._subplots.AxesSubplot object at 0x7f82a2016690>,\n",
              "        <matplotlib.axes._subplots.AxesSubplot object at 0x7f82a1e93950>,\n",
              "        <matplotlib.axes._subplots.AxesSubplot object at 0x7f82a1cc3490>,\n",
              "        <matplotlib.axes._subplots.AxesSubplot object at 0x7f82a1c7ab10>]],\n",
              "      dtype=object)"
            ]
          },
          "metadata": {},
          "execution_count": 30
        },
        {
          "output_type": "display_data",
          "data": {
            "image/png": "[encoded data removed]",
            "text/plain": [
              "<Figure size 432x288 with 16 Axes>"
            ]
          },
          "metadata": {
            "needs_background": "light"
          }
        }
      ]
    },
    {
      "cell_type": "code",
      "metadata": {
        "colab": {
          "base_uri": "https://localhost:8080/",
          "height": 282
        },
        "id": "Ox5m-ggXypdl",
        "outputId": "ed6eb981-31c4-4aba-f7a1-b1f2360daa9e"
      },
      "source": [
        "pd.DataFrame(X_train_preprocessed)[0].hist()"
      ],
      "execution_count": 31,
      "outputs": [
        {
          "output_type": "execute_result",
          "data": {
            "text/plain": [
              "<matplotlib.axes._subplots.AxesSubplot at 0x7f82a2032550>"
            ]
          },
          "metadata": {},
          "execution_count": 31
        },
        {
          "output_type": "display_data",
          "data": {
            "image/png": "[encoded data removed]",
            "text/plain": [
              "<Figure size 432x288 with 1 Axes>"
            ]
          },
          "metadata": {
            "needs_background": "light"
          }
        }
      ]
    },
    {
      "cell_type": "code",
      "metadata": {
        "colab": {
          "base_uri": "https://localhost:8080/",
          "height": 282
        },
        "id": "sYdQpq81ywGN",
        "outputId": "9a74cc8c-33b3-4071-c9c5-9e0333a8e286"
      },
      "source": [
        "pd.DataFrame(X_train_preprocessed)[1].hist()"
      ],
      "execution_count": 32,
      "outputs": [
        {
          "output_type": "execute_result",
          "data": {
            "text/plain": [
              "<matplotlib.axes._subplots.AxesSubplot at 0x7f82a14ae6d0>"
            ]
          },
          "metadata": {},
          "execution_count": 32
        },
        {
          "output_type": "display_data",
          "data": {
            "image/png": "[encoded data removed]",
            "text/plain": [
              "<Figure size 432x288 with 1 Axes>"
            ]
          },
          "metadata": {
            "needs_background": "light"
          }
        }
      ]
    },
    {
      "cell_type": "code",
      "metadata": {
        "id": "HU9kgzXbzHYc"
      },
      "source": [
        "X_train, X_val, X_test = preprocesser(X_train),preprocesser(X_val),preprocesser(X_test)"
      ],
      "execution_count": 33,
      "outputs": []
    },
    {
      "cell_type": "code",
      "metadata": {
        "colab": {
          "base_uri": "https://localhost:8080/"
        },
        "id": "AjBAKO1Jzo_S",
        "outputId": "d01f4b72-54c2-44d0-feb0-2d467bd46788"
      },
      "source": [
        "X_train.shape, X_val.shape, X_test.shape"
      ],
      "execution_count": 34,
      "outputs": [
        {
          "output_type": "execute_result",
          "data": {
            "text/plain": [
              "((18000, 13), (1218, 13), (1217, 13))"
            ]
          },
          "metadata": {},
          "execution_count": 34
        }
      ]
    },
    {
      "cell_type": "code",
      "metadata": {
        "colab": {
          "base_uri": "https://localhost:8080/"
        },
        "id": "3yFrK1H9ztmi",
        "outputId": "688ebff7-4f19-4fdb-da91-83733a05ce14"
      },
      "source": [
        "from sklearn.metrics import mean_squared_error as mse\n",
        "from sklearn.linear_model import LinearRegression\n",
        "\n",
        "lm = LinearRegression().fit(X_train,y_train)\n",
        "mse(lm.predict(X_train),y_train, squared=False),mse(lm.predict(X_val),y_val,squared =False)"
      ],
      "execution_count": 36,
      "outputs": [
        {
          "output_type": "execute_result",
          "data": {
            "text/plain": [
              "(68593.05578127236, 71382.43558330165)"
            ]
          },
          "metadata": {},
          "execution_count": 36
        }
      ]
    },
    {
      "cell_type": "code",
      "metadata": {
        "colab": {
          "base_uri": "https://localhost:8080/"
        },
        "id": "CJqN8QT6ZQmE",
        "outputId": "6f76a669-a39b-40f7-db18-d32649e81641"
      },
      "source": [
        "from sklearn.neighbors import KNeighborsRegressor\n",
        "\n",
        "knn = KNeighborsRegressor(n_neighbors =1).fit(X_train,y_train)\n",
        "mse(knn.predict(X_train),y_train, squared=False),mse(knn.predict(X_val),y_val,squared =False)"
      ],
      "execution_count": 38,
      "outputs": [
        {
          "output_type": "execute_result",
          "data": {
            "text/plain": [
              "(0.0, 74402.39127518912)"
            ]
          },
          "metadata": {},
          "execution_count": 38
        }
      ]
    },
    {
      "cell_type": "code",
      "metadata": {
        "colab": {
          "base_uri": "https://localhost:8080/"
        },
        "id": "DnYmuvE0Z_j3",
        "outputId": "61205924-f50a-4fc6-d354-5d981542a683"
      },
      "source": [
        "from sklearn.neighbors import KNeighborsRegressor\n",
        "\n",
        "knn = KNeighborsRegressor(n_neighbors =2).fit(X_train,y_train)\n",
        "mse(knn.predict(X_train),y_train, squared=False),mse(knn.predict(X_val),y_val,squared =False)"
      ],
      "execution_count": 39,
      "outputs": [
        {
          "output_type": "execute_result",
          "data": {
            "text/plain": [
              "(36947.61009305045, 67505.87884753625)"
            ]
          },
          "metadata": {},
          "execution_count": 39
        }
      ]
    },
    {
      "cell_type": "code",
      "metadata": {
        "colab": {
          "base_uri": "https://localhost:8080/"
        },
        "id": "DTiz8jvFaXIN",
        "outputId": "c060dfb3-a6ef-4a0f-c4de-b1104faba2c3"
      },
      "source": [
        "from sklearn.neighbors import KNeighborsRegressor\n",
        "\n",
        "knn = KNeighborsRegressor(n_neighbors =3).fit(X_train,y_train)\n",
        "mse(knn.predict(X_train),y_train, squared=False),mse(knn.predict(X_val),y_val,squared =False)"
      ],
      "execution_count": 40,
      "outputs": [
        {
          "output_type": "execute_result",
          "data": {
            "text/plain": [
              "(43964.27989191732, 65817.16818515355)"
            ]
          },
          "metadata": {},
          "execution_count": 40
        }
      ]
    },
    {
      "cell_type": "code",
      "metadata": {
        "colab": {
          "base_uri": "https://localhost:8080/"
        },
        "id": "qasQVGhCaY_N",
        "outputId": "e0802490-9888-4b31-9474-8ee9c39a0b4c"
      },
      "source": [
        "from sklearn.neighbors import KNeighborsRegressor\n",
        "\n",
        "knn = KNeighborsRegressor(n_neighbors =7).fit(X_train,y_train)\n",
        "mse(knn.predict(X_train),y_train, squared=False),mse(knn.predict(X_val),y_val,squared =False)"
      ],
      "execution_count": 41,
      "outputs": [
        {
          "output_type": "execute_result",
          "data": {
            "text/plain": [
              "(51713.4759100337, 62283.64593351173)"
            ]
          },
          "metadata": {},
          "execution_count": 41
        }
      ]
    },
    {
      "cell_type": "code",
      "metadata": {
        "colab": {
          "base_uri": "https://localhost:8080/"
        },
        "id": "VwUhAwF7ai7z",
        "outputId": "c28b8b23-3948-4e4e-833b-3fc167bdde0a"
      },
      "source": [
        "from sklearn.neighbors import KNeighborsRegressor\n",
        "\n",
        "knn = KNeighborsRegressor(n_neighbors =10).fit(X_train,y_train)\n",
        "mse(knn.predict(X_train),y_train, squared=False),mse(knn.predict(X_val),y_val,squared =False)"
      ],
      "execution_count": 42,
      "outputs": [
        {
          "output_type": "execute_result",
          "data": {
            "text/plain": [
              "(53759.09908812057, 62161.22860469906)"
            ]
          },
          "metadata": {},
          "execution_count": 42
        }
      ]
    },
    {
      "cell_type": "code",
      "metadata": {
        "colab": {
          "base_uri": "https://localhost:8080/"
        },
        "id": "rdYEImRbad4t",
        "outputId": "66e173f9-5c58-4438-f029-585d359c98bb"
      },
      "source": [
        "from sklearn.ensemble import RandomForestRegressor\n",
        "rfr = RandomForestRegressor(max_depth=2).fit(X_train,y_train)\n",
        "mse(rfr.predict(X_train),y_train, squared=False),mse(rfr.predict(X_val),y_val,squared =False)"
      ],
      "execution_count": 43,
      "outputs": [
        {
          "output_type": "execute_result",
          "data": {
            "text/plain": [
              "(80571.65526141145, 80958.15851414074)"
            ]
          },
          "metadata": {},
          "execution_count": 43
        }
      ]
    },
    {
      "cell_type": "code",
      "metadata": {
        "colab": {
          "base_uri": "https://localhost:8080/"
        },
        "id": "M0F_bavWbtNJ",
        "outputId": "d8b17dd0-419e-41a3-8729-74bd32473380"
      },
      "source": [
        "from sklearn.ensemble import RandomForestRegressor\n",
        "rfr = RandomForestRegressor(max_depth=4).fit(X_train,y_train)\n",
        "mse(rfr.predict(X_train),y_train, squared=False),mse(rfr.predict(X_val),y_val,squared =False)"
      ],
      "execution_count": 44,
      "outputs": [
        {
          "output_type": "execute_result",
          "data": {
            "text/plain": [
              "(70608.79565456192, 72673.17532425286)"
            ]
          },
          "metadata": {},
          "execution_count": 44
        }
      ]
    },
    {
      "cell_type": "code",
      "metadata": {
        "colab": {
          "base_uri": "https://localhost:8080/"
        },
        "id": "I8JqCuVLcEqp",
        "outputId": "eaead993-aded-4e50-d841-a27f44759535"
      },
      "source": [
        "from sklearn.ensemble import RandomForestRegressor\n",
        "rfr = RandomForestRegressor(max_depth=6).fit(X_train,y_train)\n",
        "mse(rfr.predict(X_train),y_train, squared=False),mse(rfr.predict(X_val),y_val,squared =False)"
      ],
      "execution_count": 45,
      "outputs": [
        {
          "output_type": "execute_result",
          "data": {
            "text/plain": [
              "(61911.60589467804, 65133.18719588991)"
            ]
          },
          "metadata": {},
          "execution_count": 45
        }
      ]
    },
    {
      "cell_type": "code",
      "metadata": {
        "colab": {
          "base_uri": "https://localhost:8080/"
        },
        "id": "UXX8bFMscHMB",
        "outputId": "92c61d11-be58-4b87-c33e-41cc0370fb51"
      },
      "source": [
        "from sklearn.ensemble import RandomForestRegressor\n",
        "rfr = RandomForestRegressor(max_depth=8).fit(X_train,y_train)\n",
        "mse(rfr.predict(X_train),y_train, squared=False),mse(rfr.predict(X_val),y_val,squared =False)"
      ],
      "execution_count": 46,
      "outputs": [
        {
          "output_type": "execute_result",
          "data": {
            "text/plain": [
              "(52585.206861113365, 57677.74386082611)"
            ]
          },
          "metadata": {},
          "execution_count": 46
        }
      ]
    },
    {
      "cell_type": "code",
      "metadata": {
        "colab": {
          "base_uri": "https://localhost:8080/"
        },
        "id": "vjnJZdNGcNLw",
        "outputId": "eb39eb82-aa64-4831-b7b8-7b6921700899"
      },
      "source": [
        "from sklearn.ensemble import RandomForestRegressor\n",
        "rfr = RandomForestRegressor(max_depth=10).fit(X_train,y_train)\n",
        "mse(rfr.predict(X_train),y_train, squared=False),mse(rfr.predict(X_val),y_val,squared =False)"
      ],
      "execution_count": 47,
      "outputs": [
        {
          "output_type": "execute_result",
          "data": {
            "text/plain": [
              "(43546.22389626592, 53347.18550466719)"
            ]
          },
          "metadata": {},
          "execution_count": 47
        }
      ]
    },
    {
      "cell_type": "code",
      "metadata": {
        "colab": {
          "base_uri": "https://localhost:8080/"
        },
        "id": "nZK8vFWvcXyg",
        "outputId": "9280bcb4-3c08-4231-851c-c09a6448b095"
      },
      "source": [
        "from sklearn.ensemble import GradientBoostingRegressor\n",
        "gbr = GradientBoostingRegressor(n_estimators=10).fit(X_train,y_train)\n",
        "mse(gbr.predict(X_train),y_train, squared=False),mse(gbr.predict(X_val),y_val,squared =False)"
      ],
      "execution_count": 48,
      "outputs": [
        {
          "output_type": "execute_result",
          "data": {
            "text/plain": [
              "(79280.92646412864, 80346.8715038209)"
            ]
          },
          "metadata": {},
          "execution_count": 48
        }
      ]
    },
    {
      "cell_type": "code",
      "metadata": {
        "colab": {
          "base_uri": "https://localhost:8080/"
        },
        "id": "LT-vZel6c66v",
        "outputId": "96f49791-b896-4832-c10e-c46f6e5a1ee3"
      },
      "source": [
        "from sklearn.ensemble import GradientBoostingRegressor\n",
        "gbr = GradientBoostingRegressor(n_estimators=60).fit(X_train,y_train)\n",
        "mse(gbr.predict(X_train),y_train, squared=False),mse(gbr.predict(X_val),y_val,squared =False)"
      ],
      "execution_count": 49,
      "outputs": [
        {
          "output_type": "execute_result",
          "data": {
            "text/plain": [
              "(58218.92446637415, 61380.84093610265)"
            ]
          },
          "metadata": {},
          "execution_count": 49
        }
      ]
    },
    {
      "cell_type": "code",
      "metadata": {
        "colab": {
          "base_uri": "https://localhost:8080/"
        },
        "id": "4gAldyjGc-V_",
        "outputId": "08432f97-36ad-4992-9d04-338ea7376320"
      },
      "source": [
        "from sklearn.ensemble import GradientBoostingRegressor\n",
        "gbr = GradientBoostingRegressor(n_estimators=100).fit(X_train,y_train)\n",
        "mse(gbr.predict(X_train),y_train, squared=False),mse(gbr.predict(X_val),y_val,squared =False)"
      ],
      "execution_count": 50,
      "outputs": [
        {
          "output_type": "execute_result",
          "data": {
            "text/plain": [
              "(53442.13428693658, 56878.93677453873)"
            ]
          },
          "metadata": {},
          "execution_count": 50
        }
      ]
    },
    {
      "cell_type": "code",
      "metadata": {
        "colab": {
          "base_uri": "https://localhost:8080/"
        },
        "id": "4exScRnrdGB-",
        "outputId": "2154add1-69bf-422e-ce1b-8b9b889fa21b"
      },
      "source": [
        "from sklearn.ensemble import GradientBoostingRegressor\n",
        "gbr = GradientBoostingRegressor(n_estimators=170).fit(X_train,y_train)\n",
        "mse(gbr.predict(X_train),y_train, squared=False),mse(gbr.predict(X_val),y_val,squared =False)"
      ],
      "execution_count": 51,
      "outputs": [
        {
          "output_type": "execute_result",
          "data": {
            "text/plain": [
              "(49806.97204725272, 53330.596256133)"
            ]
          },
          "metadata": {},
          "execution_count": 51
        }
      ]
    },
    {
      "cell_type": "code",
      "metadata": {
        "colab": {
          "base_uri": "https://localhost:8080/"
        },
        "id": "l-gh_0ZcdRBG",
        "outputId": "1fbd6006-6340-4654-9dcd-b079a438eb6b"
      },
      "source": [
        "from sklearn.ensemble import GradientBoostingRegressor\n",
        "gbr = GradientBoostingRegressor(n_estimators=250).fit(X_train,y_train)\n",
        "mse(gbr.predict(X_train),y_train, squared=False),mse(gbr.predict(X_val),y_val,squared =False)"
      ],
      "execution_count": 52,
      "outputs": [
        {
          "output_type": "execute_result",
          "data": {
            "text/plain": [
              "(47274.82259072158, 51378.21241480817)"
            ]
          },
          "metadata": {},
          "execution_count": 52
        }
      ]
    },
    {
      "cell_type": "code",
      "metadata": {
        "colab": {
          "base_uri": "https://localhost:8080/"
        },
        "id": "2sPdDAG4dZcu",
        "outputId": "334402ac-dd6f-40b8-b571-fc927e99d1f5"
      },
      "source": [
        "from tensorflow.keras.models import Sequential\n",
        "from tensorflow.keras.layers import *\n",
        "from tensorflow.keras.callbacks import ModelCheckpoint\n",
        "from tensorflow.keras.metrics import RootMeanSquaredError\n",
        "from tensorflow.keras.optimizers import Adam\n",
        "\n",
        "simple_nn = Sequential()\n",
        "simple_nn.add(InputLayer((13,)))\n",
        "simple_nn.add(Dense(2,'relu'))\n",
        "simple_nn.add(Dense(1,'linear'))\n",
        "\n",
        "opt = Adam(learning_rate=0.1)\n",
        "cp = ModelCheckpoint('models/simple_nn',save_best_only=True)\n",
        "simple_nn.compile(optimizer = opt,loss='mse',metrics=[RootMeanSquaredError()])\n",
        "simple_nn.fit(x=X_train, y=y_train, validation_data =(X_val,y_val), callbacks=[cp],epochs=100)\n"
      ],
      "execution_count": 56,
      "outputs": [
        {
          "output_type": "stream",
          "name": "stdout",
          "text": [
            "Epoch 1/100\n",
            "563/563 [==============================] - 2s 2ms/step - loss: 50715947008.0000 - root_mean_squared_error: 225202.0156 - val_loss: 41321734144.0000 - val_root_mean_squared_error: 203277.4844\n",
            "INFO:tensorflow:Assets written to: models/simple_nn/assets\n",
            "Epoch 2/100\n",
            "563/563 [==============================] - 1s 2ms/step - loss: 31118569472.0000 - root_mean_squared_error: 176404.5625 - val_loss: 23817852928.0000 - val_root_mean_squared_error: 154330.3438\n",
            "INFO:tensorflow:Assets written to: models/simple_nn/assets\n",
            "Epoch 3/100\n",
            "563/563 [==============================] - 1s 2ms/step - loss: 18897954816.0000 - root_mean_squared_error: 137469.8281 - val_loss: 13559009280.0000 - val_root_mean_squared_error: 116443.1562\n",
            "INFO:tensorflow:Assets written to: models/simple_nn/assets\n",
            "Epoch 4/100\n",
            "563/563 [==============================] - 1s 2ms/step - loss: 8699111424.0000 - root_mean_squared_error: 93269.0234 - val_loss: 5562931200.0000 - val_root_mean_squared_error: 74585.0625\n",
            "INFO:tensorflow:Assets written to: models/simple_nn/assets\n",
            "Epoch 5/100\n",
            "563/563 [==============================] - 1s 2ms/step - loss: 5148798976.0000 - root_mean_squared_error: 71755.1328 - val_loss: 5228622848.0000 - val_root_mean_squared_error: 72309.2188\n",
            "INFO:tensorflow:Assets written to: models/simple_nn/assets\n",
            "Epoch 6/100\n",
            "563/563 [==============================] - 1s 2ms/step - loss: 4899369984.0000 - root_mean_squared_error: 69995.5000 - val_loss: 5142437376.0000 - val_root_mean_squared_error: 71710.7891\n",
            "INFO:tensorflow:Assets written to: models/simple_nn/assets\n",
            "Epoch 7/100\n",
            "563/563 [==============================] - 1s 2ms/step - loss: 4803398656.0000 - root_mean_squared_error: 69306.5547 - val_loss: 5119314432.0000 - val_root_mean_squared_error: 71549.3828\n",
            "INFO:tensorflow:Assets written to: models/simple_nn/assets\n",
            "Epoch 8/100\n",
            "563/563 [==============================] - 1s 2ms/step - loss: 4745148416.0000 - root_mean_squared_error: 68885.0391 - val_loss: 5068558336.0000 - val_root_mean_squared_error: 71193.8047\n",
            "INFO:tensorflow:Assets written to: models/simple_nn/assets\n",
            "Epoch 9/100\n",
            "563/563 [==============================] - 1s 2ms/step - loss: 4709628416.0000 - root_mean_squared_error: 68626.7344 - val_loss: 5064486400.0000 - val_root_mean_squared_error: 71165.2031\n",
            "INFO:tensorflow:Assets written to: models/simple_nn/assets\n",
            "Epoch 10/100\n",
            "563/563 [==============================] - 1s 2ms/step - loss: 4682210816.0000 - root_mean_squared_error: 68426.6797 - val_loss: 5067932160.0000 - val_root_mean_squared_error: 71189.4141\n",
            "Epoch 11/100\n",
            "563/563 [==============================] - 1s 2ms/step - loss: 4663361536.0000 - root_mean_squared_error: 68288.8125 - val_loss: 5050213376.0000 - val_root_mean_squared_error: 71064.8516\n",
            "INFO:tensorflow:Assets written to: models/simple_nn/assets\n",
            "Epoch 12/100\n",
            "563/563 [==============================] - 1s 2ms/step - loss: 4648555008.0000 - root_mean_squared_error: 68180.3125 - val_loss: 5028025344.0000 - val_root_mean_squared_error: 70908.5703\n",
            "INFO:tensorflow:Assets written to: models/simple_nn/assets\n",
            "Epoch 13/100\n",
            "563/563 [==============================] - 1s 2ms/step - loss: 4634891776.0000 - root_mean_squared_error: 68080.0391 - val_loss: 5022606848.0000 - val_root_mean_squared_error: 70870.3516\n",
            "INFO:tensorflow:Assets written to: models/simple_nn/assets\n",
            "Epoch 14/100\n",
            "563/563 [==============================] - 1s 2ms/step - loss: 4626717696.0000 - root_mean_squared_error: 68019.9766 - val_loss: 5024835072.0000 - val_root_mean_squared_error: 70886.0703\n",
            "Epoch 15/100\n",
            "563/563 [==============================] - 1s 2ms/step - loss: 4615730176.0000 - root_mean_squared_error: 67939.1641 - val_loss: 5000241152.0000 - val_root_mean_squared_error: 70712.3828\n",
            "INFO:tensorflow:Assets written to: models/simple_nn/assets\n",
            "Epoch 16/100\n",
            "563/563 [==============================] - 1s 2ms/step - loss: 4610563072.0000 - root_mean_squared_error: 67901.1250 - val_loss: 5023316992.0000 - val_root_mean_squared_error: 70875.3594\n",
            "Epoch 17/100\n",
            "563/563 [==============================] - 1s 2ms/step - loss: 4604236288.0000 - root_mean_squared_error: 67854.5234 - val_loss: 4996319744.0000 - val_root_mean_squared_error: 70684.6484\n",
            "INFO:tensorflow:Assets written to: models/simple_nn/assets\n",
            "Epoch 18/100\n",
            "563/563 [==============================] - 1s 2ms/step - loss: 4597411328.0000 - root_mean_squared_error: 67804.2109 - val_loss: 5007919104.0000 - val_root_mean_squared_error: 70766.6562\n",
            "Epoch 19/100\n",
            "563/563 [==============================] - 1s 2ms/step - loss: 4593141760.0000 - root_mean_squared_error: 67772.7188 - val_loss: 5007106048.0000 - val_root_mean_squared_error: 70760.9062\n",
            "Epoch 20/100\n",
            "563/563 [==============================] - 1s 2ms/step - loss: 4589157888.0000 - root_mean_squared_error: 67743.3203 - val_loss: 4993535488.0000 - val_root_mean_squared_error: 70664.9531\n",
            "INFO:tensorflow:Assets written to: models/simple_nn/assets\n",
            "Epoch 21/100\n",
            "563/563 [==============================] - 1s 2ms/step - loss: 4582227968.0000 - root_mean_squared_error: 67692.1562 - val_loss: 4993146368.0000 - val_root_mean_squared_error: 70662.1953\n",
            "INFO:tensorflow:Assets written to: models/simple_nn/assets\n",
            "Epoch 22/100\n",
            "563/563 [==============================] - 1s 2ms/step - loss: 4578711552.0000 - root_mean_squared_error: 67666.1797 - val_loss: 4976372224.0000 - val_root_mean_squared_error: 70543.4062\n",
            "INFO:tensorflow:Assets written to: models/simple_nn/assets\n",
            "Epoch 23/100\n",
            "563/563 [==============================] - 1s 2ms/step - loss: 4574917632.0000 - root_mean_squared_error: 67638.1406 - val_loss: 4963159040.0000 - val_root_mean_squared_error: 70449.6953\n",
            "INFO:tensorflow:Assets written to: models/simple_nn/assets\n",
            "Epoch 24/100\n",
            "563/563 [==============================] - 1s 2ms/step - loss: 4568568320.0000 - root_mean_squared_error: 67591.1875 - val_loss: 4977702912.0000 - val_root_mean_squared_error: 70552.8359\n",
            "Epoch 25/100\n",
            "563/563 [==============================] - 1s 2ms/step - loss: 4565144064.0000 - root_mean_squared_error: 67565.8516 - val_loss: 4982237184.0000 - val_root_mean_squared_error: 70584.9609\n",
            "Epoch 26/100\n",
            "563/563 [==============================] - 1s 2ms/step - loss: 4561263104.0000 - root_mean_squared_error: 67537.1250 - val_loss: 4956542976.0000 - val_root_mean_squared_error: 70402.7188\n",
            "INFO:tensorflow:Assets written to: models/simple_nn/assets\n",
            "Epoch 27/100\n",
            "563/563 [==============================] - 1s 2ms/step - loss: 4554365440.0000 - root_mean_squared_error: 67486.0391 - val_loss: 4968437760.0000 - val_root_mean_squared_error: 70487.1484\n",
            "Epoch 28/100\n",
            "563/563 [==============================] - 1s 2ms/step - loss: 4553752064.0000 - root_mean_squared_error: 67481.4922 - val_loss: 4948777472.0000 - val_root_mean_squared_error: 70347.5469\n",
            "INFO:tensorflow:Assets written to: models/simple_nn/assets\n",
            "Epoch 29/100\n",
            "563/563 [==============================] - 1s 2ms/step - loss: 4548559360.0000 - root_mean_squared_error: 67443.0078 - val_loss: 4953817600.0000 - val_root_mean_squared_error: 70383.3594\n",
            "Epoch 30/100\n",
            "563/563 [==============================] - 1s 2ms/step - loss: 4542721024.0000 - root_mean_squared_error: 67399.7109 - val_loss: 4934559232.0000 - val_root_mean_squared_error: 70246.4141\n",
            "INFO:tensorflow:Assets written to: models/simple_nn/assets\n",
            "Epoch 31/100\n",
            "563/563 [==============================] - 1s 2ms/step - loss: 4538706432.0000 - root_mean_squared_error: 67369.9219 - val_loss: 4930363904.0000 - val_root_mean_squared_error: 70216.5469\n",
            "INFO:tensorflow:Assets written to: models/simple_nn/assets\n",
            "Epoch 32/100\n",
            "563/563 [==============================] - 1s 2ms/step - loss: 4535337984.0000 - root_mean_squared_error: 67344.9219 - val_loss: 4930307072.0000 - val_root_mean_squared_error: 70216.1484\n",
            "INFO:tensorflow:Assets written to: models/simple_nn/assets\n",
            "Epoch 33/100\n",
            "563/563 [==============================] - 1s 2ms/step - loss: 4530284032.0000 - root_mean_squared_error: 67307.3828 - val_loss: 4918922752.0000 - val_root_mean_squared_error: 70135.0312\n",
            "INFO:tensorflow:Assets written to: models/simple_nn/assets\n",
            "Epoch 34/100\n",
            "563/563 [==============================] - 1s 2ms/step - loss: 4526552576.0000 - root_mean_squared_error: 67279.6562 - val_loss: 4921058816.0000 - val_root_mean_squared_error: 70150.2578\n",
            "Epoch 35/100\n",
            "563/563 [==============================] - 1s 2ms/step - loss: 4522644992.0000 - root_mean_squared_error: 67250.6172 - val_loss: 4911135744.0000 - val_root_mean_squared_error: 70079.4922\n",
            "INFO:tensorflow:Assets written to: models/simple_nn/assets\n",
            "Epoch 36/100\n",
            "563/563 [==============================] - 1s 2ms/step - loss: 4515926016.0000 - root_mean_squared_error: 67200.6406 - val_loss: 4934895104.0000 - val_root_mean_squared_error: 70248.8047\n",
            "Epoch 37/100\n",
            "563/563 [==============================] - 1s 2ms/step - loss: 4511069696.0000 - root_mean_squared_error: 67164.5000 - val_loss: 4905802240.0000 - val_root_mean_squared_error: 70041.4297\n",
            "INFO:tensorflow:Assets written to: models/simple_nn/assets\n",
            "Epoch 38/100\n",
            "563/563 [==============================] - 1s 2ms/step - loss: 4507258368.0000 - root_mean_squared_error: 67136.1172 - val_loss: 4909814784.0000 - val_root_mean_squared_error: 70070.0703\n",
            "Epoch 39/100\n",
            "563/563 [==============================] - 1s 2ms/step - loss: 4502302720.0000 - root_mean_squared_error: 67099.2031 - val_loss: 4899273728.0000 - val_root_mean_squared_error: 69994.8125\n",
            "INFO:tensorflow:Assets written to: models/simple_nn/assets\n",
            "Epoch 40/100\n",
            "563/563 [==============================] - 1s 2ms/step - loss: 4500913152.0000 - root_mean_squared_error: 67088.8438 - val_loss: 4894523392.0000 - val_root_mean_squared_error: 69960.8672\n",
            "INFO:tensorflow:Assets written to: models/simple_nn/assets\n",
            "Epoch 41/100\n",
            "563/563 [==============================] - 1s 2ms/step - loss: 4495548928.0000 - root_mean_squared_error: 67048.8516 - val_loss: 4882497024.0000 - val_root_mean_squared_error: 69874.8672\n",
            "INFO:tensorflow:Assets written to: models/simple_nn/assets\n",
            "Epoch 42/100\n",
            "563/563 [==============================] - 1s 2ms/step - loss: 4490513920.0000 - root_mean_squared_error: 67011.2969 - val_loss: 4897725440.0000 - val_root_mean_squared_error: 69983.7500\n",
            "Epoch 43/100\n",
            "563/563 [==============================] - 1s 2ms/step - loss: 4486629376.0000 - root_mean_squared_error: 66982.3047 - val_loss: 4864864256.0000 - val_root_mean_squared_error: 69748.5781\n",
            "INFO:tensorflow:Assets written to: models/simple_nn/assets\n",
            "Epoch 44/100\n",
            "563/563 [==============================] - 1s 2ms/step - loss: 4482320896.0000 - root_mean_squared_error: 66950.1406 - val_loss: 4868371968.0000 - val_root_mean_squared_error: 69773.7188\n",
            "Epoch 45/100\n",
            "563/563 [==============================] - 1s 2ms/step - loss: 4477091840.0000 - root_mean_squared_error: 66911.0703 - val_loss: 4855014400.0000 - val_root_mean_squared_error: 69677.9297\n",
            "INFO:tensorflow:Assets written to: models/simple_nn/assets\n",
            "Epoch 46/100\n",
            "563/563 [==============================] - 1s 2ms/step - loss: 4473660928.0000 - root_mean_squared_error: 66885.4297 - val_loss: 4852048896.0000 - val_root_mean_squared_error: 69656.6484\n",
            "INFO:tensorflow:Assets written to: models/simple_nn/assets\n",
            "Epoch 47/100\n",
            "563/563 [==============================] - 1s 2ms/step - loss: 4468451840.0000 - root_mean_squared_error: 66846.4766 - val_loss: 4848813568.0000 - val_root_mean_squared_error: 69633.4219\n",
            "INFO:tensorflow:Assets written to: models/simple_nn/assets\n",
            "Epoch 48/100\n",
            "563/563 [==============================] - 1s 2ms/step - loss: 4466019840.0000 - root_mean_squared_error: 66828.2891 - val_loss: 4843337216.0000 - val_root_mean_squared_error: 69594.0859\n",
            "INFO:tensorflow:Assets written to: models/simple_nn/assets\n",
            "Epoch 49/100\n",
            "563/563 [==============================] - 1s 1ms/step - loss: 4459638784.0000 - root_mean_squared_error: 66780.5234 - val_loss: 4847428096.0000 - val_root_mean_squared_error: 69623.4766\n",
            "Epoch 50/100\n",
            "563/563 [==============================] - 1s 1ms/step - loss: 4454963200.0000 - root_mean_squared_error: 66745.5078 - val_loss: 4868534272.0000 - val_root_mean_squared_error: 69774.8828\n",
            "Epoch 51/100\n",
            "563/563 [==============================] - 1s 2ms/step - loss: 4453733888.0000 - root_mean_squared_error: 66736.3047 - val_loss: 4843363840.0000 - val_root_mean_squared_error: 69594.2812\n",
            "Epoch 52/100\n",
            "563/563 [==============================] - 1s 2ms/step - loss: 4449712128.0000 - root_mean_squared_error: 66706.1641 - val_loss: 4818372608.0000 - val_root_mean_squared_error: 69414.5000\n",
            "INFO:tensorflow:Assets written to: models/simple_nn/assets\n",
            "Epoch 53/100\n",
            "563/563 [==============================] - 1s 2ms/step - loss: 4446311424.0000 - root_mean_squared_error: 66680.6641 - val_loss: 4811887616.0000 - val_root_mean_squared_error: 69367.7734\n",
            "INFO:tensorflow:Assets written to: models/simple_nn/assets\n",
            "Epoch 54/100\n",
            "563/563 [==============================] - 1s 2ms/step - loss: 4442434560.0000 - root_mean_squared_error: 66651.5938 - val_loss: 4837900800.0000 - val_root_mean_squared_error: 69555.0234\n",
            "Epoch 55/100\n",
            "563/563 [==============================] - 1s 2ms/step - loss: 4439694336.0000 - root_mean_squared_error: 66631.0312 - val_loss: 4822727680.0000 - val_root_mean_squared_error: 69445.8594\n",
            "Epoch 56/100\n",
            "563/563 [==============================] - 1s 2ms/step - loss: 4435171328.0000 - root_mean_squared_error: 66597.0781 - val_loss: 4820706304.0000 - val_root_mean_squared_error: 69431.3047\n",
            "Epoch 57/100\n",
            "563/563 [==============================] - 1s 1ms/step - loss: 4431515648.0000 - root_mean_squared_error: 66569.6328 - val_loss: 4801423872.0000 - val_root_mean_squared_error: 69292.3047\n",
            "INFO:tensorflow:Assets written to: models/simple_nn/assets\n",
            "Epoch 58/100\n",
            "563/563 [==============================] - 1s 1ms/step - loss: 4428247040.0000 - root_mean_squared_error: 66545.0781 - val_loss: 4807688192.0000 - val_root_mean_squared_error: 69337.4922\n",
            "Epoch 59/100\n",
            "563/563 [==============================] - 1s 1ms/step - loss: 4423480320.0000 - root_mean_squared_error: 66509.2500 - val_loss: 4814106624.0000 - val_root_mean_squared_error: 69383.7656\n",
            "Epoch 60/100\n",
            "563/563 [==============================] - 1s 1ms/step - loss: 4421407744.0000 - root_mean_squared_error: 66493.6641 - val_loss: 4794312192.0000 - val_root_mean_squared_error: 69240.9688\n",
            "INFO:tensorflow:Assets written to: models/simple_nn/assets\n",
            "Epoch 61/100\n",
            "563/563 [==============================] - 1s 1ms/step - loss: 4418130432.0000 - root_mean_squared_error: 66469.0156 - val_loss: 4779572736.0000 - val_root_mean_squared_error: 69134.4531\n",
            "INFO:tensorflow:Assets written to: models/simple_nn/assets\n",
            "Epoch 62/100\n",
            "563/563 [==============================] - 1s 1ms/step - loss: 4415831040.0000 - root_mean_squared_error: 66451.7188 - val_loss: 4781040128.0000 - val_root_mean_squared_error: 69145.0625\n",
            "Epoch 63/100\n",
            "563/563 [==============================] - 1s 1ms/step - loss: 4412360192.0000 - root_mean_squared_error: 66425.6016 - val_loss: 4777143296.0000 - val_root_mean_squared_error: 69116.8828\n",
            "INFO:tensorflow:Assets written to: models/simple_nn/assets\n",
            "Epoch 64/100\n",
            "563/563 [==============================] - 1s 1ms/step - loss: 4410694656.0000 - root_mean_squared_error: 66413.0625 - val_loss: 4782198784.0000 - val_root_mean_squared_error: 69153.4453\n",
            "Epoch 65/100\n",
            "563/563 [==============================] - 1s 2ms/step - loss: 4406267904.0000 - root_mean_squared_error: 66379.7266 - val_loss: 4767719424.0000 - val_root_mean_squared_error: 69048.6719\n",
            "INFO:tensorflow:Assets written to: models/simple_nn/assets\n",
            "Epoch 66/100\n",
            "563/563 [==============================] - 1s 2ms/step - loss: 4403394048.0000 - root_mean_squared_error: 66358.0781 - val_loss: 4762217984.0000 - val_root_mean_squared_error: 69008.8281\n",
            "INFO:tensorflow:Assets written to: models/simple_nn/assets\n",
            "Epoch 67/100\n",
            "563/563 [==============================] - 1s 2ms/step - loss: 4402905088.0000 - root_mean_squared_error: 66354.3906 - val_loss: 4761998848.0000 - val_root_mean_squared_error: 69007.2344\n",
            "INFO:tensorflow:Assets written to: models/simple_nn/assets\n",
            "Epoch 68/100\n",
            "563/563 [==============================] - 1s 2ms/step - loss: 4399376896.0000 - root_mean_squared_error: 66327.7969 - val_loss: 4762309120.0000 - val_root_mean_squared_error: 69009.4844\n",
            "Epoch 69/100\n",
            "563/563 [==============================] - 1s 1ms/step - loss: 4397564416.0000 - root_mean_squared_error: 66314.1328 - val_loss: 4767938560.0000 - val_root_mean_squared_error: 69050.2578\n",
            "Epoch 70/100\n",
            "563/563 [==============================] - 1s 1ms/step - loss: 4393421824.0000 - root_mean_squared_error: 66282.8906 - val_loss: 4757284352.0000 - val_root_mean_squared_error: 68973.0703\n",
            "INFO:tensorflow:Assets written to: models/simple_nn/assets\n",
            "Epoch 71/100\n",
            "563/563 [==============================] - 1s 1ms/step - loss: 4392698368.0000 - root_mean_squared_error: 66277.4375 - val_loss: 4742578176.0000 - val_root_mean_squared_error: 68866.3828\n",
            "INFO:tensorflow:Assets written to: models/simple_nn/assets\n",
            "Epoch 72/100\n",
            "563/563 [==============================] - 1s 1ms/step - loss: 4389873152.0000 - root_mean_squared_error: 66256.1172 - val_loss: 4749610496.0000 - val_root_mean_squared_error: 68917.4141\n",
            "Epoch 73/100\n",
            "563/563 [==============================] - 1s 2ms/step - loss: 4387219968.0000 - root_mean_squared_error: 66236.0938 - val_loss: 4737673216.0000 - val_root_mean_squared_error: 68830.7578\n",
            "INFO:tensorflow:Assets written to: models/simple_nn/assets\n",
            "Epoch 74/100\n",
            "563/563 [==============================] - 1s 1ms/step - loss: 4383860224.0000 - root_mean_squared_error: 66210.7266 - val_loss: 4762324480.0000 - val_root_mean_squared_error: 69009.5938\n",
            "Epoch 75/100\n",
            "563/563 [==============================] - 1s 2ms/step - loss: 4380838912.0000 - root_mean_squared_error: 66187.9062 - val_loss: 4764957696.0000 - val_root_mean_squared_error: 69028.6719\n",
            "Epoch 76/100\n",
            "563/563 [==============================] - 1s 1ms/step - loss: 4379972096.0000 - root_mean_squared_error: 66181.3594 - val_loss: 4732251648.0000 - val_root_mean_squared_error: 68791.3594\n",
            "INFO:tensorflow:Assets written to: models/simple_nn/assets\n",
            "Epoch 77/100\n",
            "563/563 [==============================] - 1s 1ms/step - loss: 4378251264.0000 - root_mean_squared_error: 66168.3516 - val_loss: 4725556224.0000 - val_root_mean_squared_error: 68742.6797\n",
            "INFO:tensorflow:Assets written to: models/simple_nn/assets\n",
            "Epoch 78/100\n",
            "563/563 [==============================] - 1s 1ms/step - loss: 4375824896.0000 - root_mean_squared_error: 66150.0156 - val_loss: 4714478080.0000 - val_root_mean_squared_error: 68662.0547\n",
            "INFO:tensorflow:Assets written to: models/simple_nn/assets\n",
            "Epoch 79/100\n",
            "563/563 [==============================] - 1s 1ms/step - loss: 4375829504.0000 - root_mean_squared_error: 66150.0547 - val_loss: 4718452736.0000 - val_root_mean_squared_error: 68690.9922\n",
            "Epoch 80/100\n",
            "563/563 [==============================] - 1s 1ms/step - loss: 4372722688.0000 - root_mean_squared_error: 66126.5625 - val_loss: 4733838336.0000 - val_root_mean_squared_error: 68802.8984\n",
            "Epoch 81/100\n",
            "563/563 [==============================] - 1s 2ms/step - loss: 4370643968.0000 - root_mean_squared_error: 66110.8438 - val_loss: 4734895104.0000 - val_root_mean_squared_error: 68810.5703\n",
            "Epoch 82/100\n",
            "563/563 [==============================] - 1s 1ms/step - loss: 4369553920.0000 - root_mean_squared_error: 66102.6016 - val_loss: 4714436096.0000 - val_root_mean_squared_error: 68661.7500\n",
            "INFO:tensorflow:Assets written to: models/simple_nn/assets\n",
            "Epoch 83/100\n",
            "563/563 [==============================] - 1s 2ms/step - loss: 4367386624.0000 - root_mean_squared_error: 66086.2031 - val_loss: 4720447488.0000 - val_root_mean_squared_error: 68705.5156\n",
            "Epoch 84/100\n",
            "563/563 [==============================] - 1s 1ms/step - loss: 4365597184.0000 - root_mean_squared_error: 66072.6641 - val_loss: 4716207104.0000 - val_root_mean_squared_error: 68674.6484\n",
            "Epoch 85/100\n",
            "563/563 [==============================] - 1s 1ms/step - loss: 4363933184.0000 - root_mean_squared_error: 66060.0703 - val_loss: 4727869952.0000 - val_root_mean_squared_error: 68759.5078\n",
            "Epoch 86/100\n",
            "563/563 [==============================] - 1s 1ms/step - loss: 4362796032.0000 - root_mean_squared_error: 66051.4688 - val_loss: 4726406656.0000 - val_root_mean_squared_error: 68748.8672\n",
            "Epoch 87/100\n",
            "563/563 [==============================] - 1s 1ms/step - loss: 4362047488.0000 - root_mean_squared_error: 66045.7969 - val_loss: 4712748544.0000 - val_root_mean_squared_error: 68649.4609\n",
            "INFO:tensorflow:Assets written to: models/simple_nn/assets\n",
            "Epoch 88/100\n",
            "563/563 [==============================] - 1s 2ms/step - loss: 4359349248.0000 - root_mean_squared_error: 66025.3672 - val_loss: 4716497408.0000 - val_root_mean_squared_error: 68676.7578\n",
            "Epoch 89/100\n",
            "563/563 [==============================] - 1s 1ms/step - loss: 4358259200.0000 - root_mean_squared_error: 66017.1094 - val_loss: 4706294272.0000 - val_root_mean_squared_error: 68602.4375\n",
            "INFO:tensorflow:Assets written to: models/simple_nn/assets\n",
            "Epoch 90/100\n",
            "563/563 [==============================] - 1s 1ms/step - loss: 4356952576.0000 - root_mean_squared_error: 66007.2188 - val_loss: 4703777792.0000 - val_root_mean_squared_error: 68584.0938\n",
            "INFO:tensorflow:Assets written to: models/simple_nn/assets\n",
            "Epoch 91/100\n",
            "563/563 [==============================] - 1s 1ms/step - loss: 4356312064.0000 - root_mean_squared_error: 66002.3672 - val_loss: 4697181696.0000 - val_root_mean_squared_error: 68535.9922\n",
            "INFO:tensorflow:Assets written to: models/simple_nn/assets\n",
            "Epoch 92/100\n",
            "563/563 [==============================] - 1s 1ms/step - loss: 4353918976.0000 - root_mean_squared_error: 65984.2344 - val_loss: 4699672576.0000 - val_root_mean_squared_error: 68554.1562\n",
            "Epoch 93/100\n",
            "563/563 [==============================] - 1s 1ms/step - loss: 4353067008.0000 - root_mean_squared_error: 65977.7734 - val_loss: 4697948160.0000 - val_root_mean_squared_error: 68541.5781\n",
            "Epoch 94/100\n",
            "563/563 [==============================] - 1s 1ms/step - loss: 4351691264.0000 - root_mean_squared_error: 65967.3516 - val_loss: 4724649472.0000 - val_root_mean_squared_error: 68736.0859\n",
            "Epoch 95/100\n",
            "563/563 [==============================] - 1s 2ms/step - loss: 4349776384.0000 - root_mean_squared_error: 65952.8359 - val_loss: 4698968064.0000 - val_root_mean_squared_error: 68549.0156\n",
            "Epoch 96/100\n",
            "563/563 [==============================] - 1s 2ms/step - loss: 4345582080.0000 - root_mean_squared_error: 65921.0312 - val_loss: 4715080192.0000 - val_root_mean_squared_error: 68666.4453\n",
            "Epoch 97/100\n",
            "563/563 [==============================] - 1s 2ms/step - loss: 4349090816.0000 - root_mean_squared_error: 65947.6406 - val_loss: 4691841536.0000 - val_root_mean_squared_error: 68497.0156\n",
            "INFO:tensorflow:Assets written to: models/simple_nn/assets\n",
            "Epoch 98/100\n",
            "563/563 [==============================] - 1s 2ms/step - loss: 4346908672.0000 - root_mean_squared_error: 65931.0938 - val_loss: 4703393792.0000 - val_root_mean_squared_error: 68581.2969\n",
            "Epoch 99/100\n",
            "563/563 [==============================] - 1s 2ms/step - loss: 4345763328.0000 - root_mean_squared_error: 65922.4062 - val_loss: 4701376512.0000 - val_root_mean_squared_error: 68566.5859\n",
            "Epoch 100/100\n",
            "563/563 [==============================] - 1s 1ms/step - loss: 4344504832.0000 - root_mean_squared_error: 65912.8594 - val_loss: 4691720192.0000 - val_root_mean_squared_error: 68496.1328\n",
            "INFO:tensorflow:Assets written to: models/simple_nn/assets\n"
          ]
        },
        {
          "output_type": "execute_result",
          "data": {
            "text/plain": [
              "<keras.callbacks.History at 0x7f823f841ed0>"
            ]
          },
          "metadata": {},
          "execution_count": 56
        }
      ]
    },
    {
      "cell_type": "code",
      "metadata": {
        "colab": {
          "base_uri": "https://localhost:8080/"
        },
        "id": "15mHtLsegKWz",
        "outputId": "27e0da60-6b97-4353-897a-2fd93c506c8d"
      },
      "source": [
        "from tensorflow.keras.models import load_model\n",
        "simple_nn = load_model('models/simple_nn')\n",
        "mse(simple_nn.predict(X_train),y_train, squared=False),mse(simple_nn.predict(X_val),y_val,squared =False)"
      ],
      "execution_count": 57,
      "outputs": [
        {
          "output_type": "execute_result",
          "data": {
            "text/plain": [
              "(65877.53407969384, 68496.13902276034)"
            ]
          },
          "metadata": {},
          "execution_count": 57
        }
      ]
    },
    {
      "cell_type": "code",
      "metadata": {
        "colab": {
          "base_uri": "https://localhost:8080/"
        },
        "id": "tpvFVOi4iFWy",
        "outputId": "8bd7e24a-e229-461b-b619-1d281eb14008"
      },
      "source": [
        "medium_nn = Sequential()\n",
        "medium_nn.add(InputLayer((13,)))\n",
        "medium_nn.add(Dense(32,'relu'))\n",
        "medium_nn.add(Dense(16,'relu'))\n",
        "medium_nn.add(Dense(1,'linear'))\n",
        "\n",
        "opt = Adam(learning_rate=0.1)\n",
        "cp = ModelCheckpoint('models/medium_nn',save_best_only=True)\n",
        "medium_nn.compile(optimizer = opt,loss='mse',metrics=[RootMeanSquaredError()])\n",
        "medium_nn.fit(x=X_train, y=y_train, validation_data =(X_val,y_val), callbacks=[cp],epochs=100)"
      ],
      "execution_count": 59,
      "outputs": [
        {
          "output_type": "stream",
          "name": "stdout",
          "text": [
            "Epoch 1/100\n",
            "563/563 [==============================] - 1s 2ms/step - loss: 8675752960.0000 - root_mean_squared_error: 93143.7188 - val_loss: 5266280448.0000 - val_root_mean_squared_error: 72569.1406\n",
            "INFO:tensorflow:Assets written to: models/medium_nn/assets\n",
            "Epoch 2/100\n",
            "563/563 [==============================] - 1s 2ms/step - loss: 4493506560.0000 - root_mean_squared_error: 67033.6250 - val_loss: 4759848960.0000 - val_root_mean_squared_error: 68991.6562\n",
            "INFO:tensorflow:Assets written to: models/medium_nn/assets\n",
            "Epoch 3/100\n",
            "563/563 [==============================] - 1s 2ms/step - loss: 4366689280.0000 - root_mean_squared_error: 66080.9297 - val_loss: 4694831104.0000 - val_root_mean_squared_error: 68518.8359\n",
            "INFO:tensorflow:Assets written to: models/medium_nn/assets\n",
            "Epoch 4/100\n",
            "563/563 [==============================] - 1s 1ms/step - loss: 4311249408.0000 - root_mean_squared_error: 65660.1016 - val_loss: 4791547904.0000 - val_root_mean_squared_error: 69221.0078\n",
            "Epoch 5/100\n",
            "563/563 [==============================] - 1s 2ms/step - loss: 4240036352.0000 - root_mean_squared_error: 65115.5625 - val_loss: 4718794752.0000 - val_root_mean_squared_error: 68693.4844\n",
            "Epoch 6/100\n",
            "563/563 [==============================] - 1s 2ms/step - loss: 4205284608.0000 - root_mean_squared_error: 64848.1641 - val_loss: 4544524800.0000 - val_root_mean_squared_error: 67413.0938\n",
            "INFO:tensorflow:Assets written to: models/medium_nn/assets\n",
            "Epoch 7/100\n",
            "563/563 [==============================] - 1s 1ms/step - loss: 4169716992.0000 - root_mean_squared_error: 64573.3477 - val_loss: 4675997184.0000 - val_root_mean_squared_error: 68381.2656\n",
            "Epoch 8/100\n",
            "563/563 [==============================] - 1s 2ms/step - loss: 4124945664.0000 - root_mean_squared_error: 64225.7383 - val_loss: 4404452864.0000 - val_root_mean_squared_error: 66366.0547\n",
            "INFO:tensorflow:Assets written to: models/medium_nn/assets\n",
            "Epoch 9/100\n",
            "563/563 [==============================] - 1s 1ms/step - loss: 4127432704.0000 - root_mean_squared_error: 64245.0977 - val_loss: 4451376128.0000 - val_root_mean_squared_error: 66718.6328\n",
            "Epoch 10/100\n",
            "563/563 [==============================] - 1s 2ms/step - loss: 4089151488.0000 - root_mean_squared_error: 63946.4727 - val_loss: 4406306304.0000 - val_root_mean_squared_error: 66380.0156\n",
            "Epoch 11/100\n",
            "563/563 [==============================] - 1s 1ms/step - loss: 4100858112.0000 - root_mean_squared_error: 64037.9414 - val_loss: 4396129280.0000 - val_root_mean_squared_error: 66303.3125\n",
            "INFO:tensorflow:Assets written to: models/medium_nn/assets\n",
            "Epoch 12/100\n",
            "563/563 [==============================] - 1s 1ms/step - loss: 4079149824.0000 - root_mean_squared_error: 63868.2227 - val_loss: 4351885312.0000 - val_root_mean_squared_error: 65968.8203\n",
            "INFO:tensorflow:Assets written to: models/medium_nn/assets\n",
            "Epoch 13/100\n",
            "563/563 [==============================] - 1s 2ms/step - loss: 4063998208.0000 - root_mean_squared_error: 63749.4961 - val_loss: 4273408768.0000 - val_root_mean_squared_error: 65371.3164\n",
            "INFO:tensorflow:Assets written to: models/medium_nn/assets\n",
            "Epoch 14/100\n",
            "563/563 [==============================] - 1s 2ms/step - loss: 4035935488.0000 - root_mean_squared_error: 63529.0117 - val_loss: 4232070912.0000 - val_root_mean_squared_error: 65054.3672\n",
            "INFO:tensorflow:Assets written to: models/medium_nn/assets\n",
            "Epoch 15/100\n",
            "563/563 [==============================] - 1s 1ms/step - loss: 4029958656.0000 - root_mean_squared_error: 63481.9570 - val_loss: 4349136896.0000 - val_root_mean_squared_error: 65947.9844\n",
            "Epoch 16/100\n",
            "563/563 [==============================] - 1s 2ms/step - loss: 4016429056.0000 - root_mean_squared_error: 63375.3047 - val_loss: 4312304128.0000 - val_root_mean_squared_error: 65668.1328\n",
            "Epoch 17/100\n",
            "563/563 [==============================] - 1s 2ms/step - loss: 4037834496.0000 - root_mean_squared_error: 63543.9570 - val_loss: 4421903872.0000 - val_root_mean_squared_error: 66497.3984\n",
            "Epoch 18/100\n",
            "563/563 [==============================] - 1s 2ms/step - loss: 4055738624.0000 - root_mean_squared_error: 63684.6797 - val_loss: 4412534784.0000 - val_root_mean_squared_error: 66426.9141\n",
            "Epoch 19/100\n",
            "563/563 [==============================] - 1s 2ms/step - loss: 4046016256.0000 - root_mean_squared_error: 63608.3047 - val_loss: 4332042752.0000 - val_root_mean_squared_error: 65818.2578\n",
            "Epoch 20/100\n",
            "563/563 [==============================] - 1s 1ms/step - loss: 4024166656.0000 - root_mean_squared_error: 63436.3203 - val_loss: 4176737280.0000 - val_root_mean_squared_error: 64627.6836\n",
            "INFO:tensorflow:Assets written to: models/medium_nn/assets\n",
            "Epoch 21/100\n",
            "563/563 [==============================] - 1s 2ms/step - loss: 3836516096.0000 - root_mean_squared_error: 61939.6172 - val_loss: 4183702528.0000 - val_root_mean_squared_error: 64681.5469\n",
            "Epoch 22/100\n",
            "563/563 [==============================] - 1s 2ms/step - loss: 3757482240.0000 - root_mean_squared_error: 61298.3047 - val_loss: 4179529984.0000 - val_root_mean_squared_error: 64649.2852\n",
            "Epoch 23/100\n",
            "563/563 [==============================] - 1s 2ms/step - loss: 3694565120.0000 - root_mean_squared_error: 60782.9336 - val_loss: 3953703936.0000 - val_root_mean_squared_error: 62878.4844\n",
            "INFO:tensorflow:Assets written to: models/medium_nn/assets\n",
            "Epoch 24/100\n",
            "563/563 [==============================] - 1s 1ms/step - loss: 3596593664.0000 - root_mean_squared_error: 59971.6055 - val_loss: 4122217728.0000 - val_root_mean_squared_error: 64204.5000\n",
            "Epoch 25/100\n",
            "563/563 [==============================] - 1s 2ms/step - loss: 3574429952.0000 - root_mean_squared_error: 59786.5352 - val_loss: 3949989120.0000 - val_root_mean_squared_error: 62848.9375\n",
            "INFO:tensorflow:Assets written to: models/medium_nn/assets\n",
            "Epoch 26/100\n",
            "563/563 [==============================] - 1s 2ms/step - loss: 3525218560.0000 - root_mean_squared_error: 59373.5508 - val_loss: 3888253184.0000 - val_root_mean_squared_error: 62355.8594\n",
            "INFO:tensorflow:Assets written to: models/medium_nn/assets\n",
            "Epoch 27/100\n",
            "563/563 [==============================] - 1s 2ms/step - loss: 3503110400.0000 - root_mean_squared_error: 59187.0781 - val_loss: 3874167296.0000 - val_root_mean_squared_error: 62242.8086\n",
            "INFO:tensorflow:Assets written to: models/medium_nn/assets\n",
            "Epoch 28/100\n",
            "563/563 [==============================] - 1s 2ms/step - loss: 3465747200.0000 - root_mean_squared_error: 58870.5977 - val_loss: 3868555776.0000 - val_root_mean_squared_error: 62197.7148\n",
            "INFO:tensorflow:Assets written to: models/medium_nn/assets\n",
            "Epoch 29/100\n",
            "563/563 [==============================] - 1s 2ms/step - loss: 3434800896.0000 - root_mean_squared_error: 58607.1758 - val_loss: 3907785728.0000 - val_root_mean_squared_error: 62512.2852\n",
            "Epoch 30/100\n",
            "563/563 [==============================] - 1s 1ms/step - loss: 3405139968.0000 - root_mean_squared_error: 58353.5781 - val_loss: 3896145152.0000 - val_root_mean_squared_error: 62419.1094\n",
            "Epoch 31/100\n",
            "563/563 [==============================] - 1s 2ms/step - loss: 3435341312.0000 - root_mean_squared_error: 58611.7852 - val_loss: 3947056896.0000 - val_root_mean_squared_error: 62825.6055\n",
            "Epoch 32/100\n",
            "563/563 [==============================] - 1s 2ms/step - loss: 3383694336.0000 - root_mean_squared_error: 58169.5312 - val_loss: 3906855680.0000 - val_root_mean_squared_error: 62504.8438\n",
            "Epoch 33/100\n",
            "563/563 [==============================] - 1s 1ms/step - loss: 3407156480.0000 - root_mean_squared_error: 58370.8516 - val_loss: 4021095680.0000 - val_root_mean_squared_error: 63412.1094\n",
            "Epoch 34/100\n",
            "563/563 [==============================] - 1s 2ms/step - loss: 3372866304.0000 - root_mean_squared_error: 58076.3828 - val_loss: 3858555136.0000 - val_root_mean_squared_error: 62117.2695\n",
            "INFO:tensorflow:Assets written to: models/medium_nn/assets\n",
            "Epoch 35/100\n",
            "563/563 [==============================] - 1s 1ms/step - loss: 3362920704.0000 - root_mean_squared_error: 57990.6953 - val_loss: 3722907136.0000 - val_root_mean_squared_error: 61015.6289\n",
            "INFO:tensorflow:Assets written to: models/medium_nn/assets\n",
            "Epoch 36/100\n",
            "563/563 [==============================] - 1s 1ms/step - loss: 3335137536.0000 - root_mean_squared_error: 57750.6484 - val_loss: 3795923456.0000 - val_root_mean_squared_error: 61611.0664\n",
            "Epoch 37/100\n",
            "563/563 [==============================] - 1s 2ms/step - loss: 3316769280.0000 - root_mean_squared_error: 57591.3984 - val_loss: 3782848000.0000 - val_root_mean_squared_error: 61504.8633\n",
            "Epoch 38/100\n",
            "563/563 [==============================] - 1s 2ms/step - loss: 3339579392.0000 - root_mean_squared_error: 57789.0938 - val_loss: 3760125440.0000 - val_root_mean_squared_error: 61319.8633\n",
            "Epoch 39/100\n",
            "563/563 [==============================] - 1s 1ms/step - loss: 3326265088.0000 - root_mean_squared_error: 57673.7812 - val_loss: 3744122624.0000 - val_root_mean_squared_error: 61189.2344\n",
            "Epoch 40/100\n",
            "563/563 [==============================] - 1s 1ms/step - loss: 3306559744.0000 - root_mean_squared_error: 57502.6953 - val_loss: 3734171136.0000 - val_root_mean_squared_error: 61107.8633\n",
            "Epoch 41/100\n",
            "563/563 [==============================] - 1s 2ms/step - loss: 3289374976.0000 - root_mean_squared_error: 57353.0742 - val_loss: 3662125824.0000 - val_root_mean_squared_error: 60515.5000\n",
            "INFO:tensorflow:Assets written to: models/medium_nn/assets\n",
            "Epoch 42/100\n",
            "563/563 [==============================] - 1s 1ms/step - loss: 3304431616.0000 - root_mean_squared_error: 57484.1875 - val_loss: 3728162048.0000 - val_root_mean_squared_error: 61058.6758\n",
            "Epoch 43/100\n",
            "563/563 [==============================] - 1s 1ms/step - loss: 3283330816.0000 - root_mean_squared_error: 57300.3555 - val_loss: 3802266112.0000 - val_root_mean_squared_error: 61662.5195\n",
            "Epoch 44/100\n",
            "563/563 [==============================] - 1s 1ms/step - loss: 3258488832.0000 - root_mean_squared_error: 57083.1758 - val_loss: 3838993920.0000 - val_root_mean_squared_error: 61959.6172\n",
            "Epoch 45/100\n",
            "563/563 [==============================] - 1s 1ms/step - loss: 3242253312.0000 - root_mean_squared_error: 56940.7891 - val_loss: 3614804736.0000 - val_root_mean_squared_error: 60123.2461\n",
            "INFO:tensorflow:Assets written to: models/medium_nn/assets\n",
            "Epoch 46/100\n",
            "563/563 [==============================] - 1s 2ms/step - loss: 3239958016.0000 - root_mean_squared_error: 56920.6289 - val_loss: 3593409024.0000 - val_root_mean_squared_error: 59945.0508\n",
            "INFO:tensorflow:Assets written to: models/medium_nn/assets\n",
            "Epoch 47/100\n",
            "563/563 [==============================] - 1s 1ms/step - loss: 3232455936.0000 - root_mean_squared_error: 56854.6914 - val_loss: 3703669760.0000 - val_root_mean_squared_error: 60857.7812\n",
            "Epoch 48/100\n",
            "563/563 [==============================] - 1s 2ms/step - loss: 3195912960.0000 - root_mean_squared_error: 56532.4062 - val_loss: 3585873408.0000 - val_root_mean_squared_error: 59882.1641\n",
            "INFO:tensorflow:Assets written to: models/medium_nn/assets\n",
            "Epoch 49/100\n",
            "563/563 [==============================] - 1s 2ms/step - loss: 3181857280.0000 - root_mean_squared_error: 56407.9531 - val_loss: 3585294336.0000 - val_root_mean_squared_error: 59877.3281\n",
            "INFO:tensorflow:Assets written to: models/medium_nn/assets\n",
            "Epoch 50/100\n",
            "563/563 [==============================] - 1s 2ms/step - loss: 3182829824.0000 - root_mean_squared_error: 56416.5742 - val_loss: 3574172672.0000 - val_root_mean_squared_error: 59784.3867\n",
            "INFO:tensorflow:Assets written to: models/medium_nn/assets\n",
            "Epoch 51/100\n",
            "563/563 [==============================] - 1s 1ms/step - loss: 3140527616.0000 - root_mean_squared_error: 56040.4102 - val_loss: 3499418368.0000 - val_root_mean_squared_error: 59155.8828\n",
            "INFO:tensorflow:Assets written to: models/medium_nn/assets\n",
            "Epoch 52/100\n",
            "563/563 [==============================] - 1s 1ms/step - loss: 3108205568.0000 - root_mean_squared_error: 55751.2812 - val_loss: 3585932288.0000 - val_root_mean_squared_error: 59882.6562\n",
            "Epoch 53/100\n",
            "563/563 [==============================] - 1s 2ms/step - loss: 3101126400.0000 - root_mean_squared_error: 55687.7578 - val_loss: 3441848576.0000 - val_root_mean_squared_error: 58667.2695\n",
            "INFO:tensorflow:Assets written to: models/medium_nn/assets\n",
            "Epoch 54/100\n",
            "563/563 [==============================] - 1s 2ms/step - loss: 3055245568.0000 - root_mean_squared_error: 55274.2773 - val_loss: 3477331968.0000 - val_root_mean_squared_error: 58968.9062\n",
            "Epoch 55/100\n",
            "563/563 [==============================] - 1s 1ms/step - loss: 3049005824.0000 - root_mean_squared_error: 55217.8047 - val_loss: 3416423680.0000 - val_root_mean_squared_error: 58450.1797\n",
            "INFO:tensorflow:Assets written to: models/medium_nn/assets\n",
            "Epoch 56/100\n",
            "563/563 [==============================] - 1s 2ms/step - loss: 3021810688.0000 - root_mean_squared_error: 54971.0000 - val_loss: 3617117952.0000 - val_root_mean_squared_error: 60142.4805\n",
            "Epoch 57/100\n",
            "563/563 [==============================] - 1s 1ms/step - loss: 3032022016.0000 - root_mean_squared_error: 55063.8008 - val_loss: 3461157120.0000 - val_root_mean_squared_error: 58831.6016\n",
            "Epoch 58/100\n",
            "563/563 [==============================] - 1s 2ms/step - loss: 3001792768.0000 - root_mean_squared_error: 54788.6172 - val_loss: 3516036096.0000 - val_root_mean_squared_error: 59296.1719\n",
            "Epoch 59/100\n",
            "563/563 [==============================] - 1s 2ms/step - loss: 2983148800.0000 - root_mean_squared_error: 54618.2109 - val_loss: 3541484800.0000 - val_root_mean_squared_error: 59510.3750\n",
            "Epoch 60/100\n",
            "563/563 [==============================] - 1s 2ms/step - loss: 2977464832.0000 - root_mean_squared_error: 54566.1523 - val_loss: 3489136896.0000 - val_root_mean_squared_error: 59068.9180\n",
            "Epoch 61/100\n",
            "563/563 [==============================] - 1s 2ms/step - loss: 2950039040.0000 - root_mean_squared_error: 54314.2617 - val_loss: 3461468928.0000 - val_root_mean_squared_error: 58834.2500\n",
            "Epoch 62/100\n",
            "563/563 [==============================] - 1s 2ms/step - loss: 2967569920.0000 - root_mean_squared_error: 54475.4062 - val_loss: 3427880448.0000 - val_root_mean_squared_error: 58548.1055\n",
            "Epoch 63/100\n",
            "563/563 [==============================] - 1s 2ms/step - loss: 2942508544.0000 - root_mean_squared_error: 54244.8945 - val_loss: 3535271936.0000 - val_root_mean_squared_error: 59458.1523\n",
            "Epoch 64/100\n",
            "563/563 [==============================] - 1s 2ms/step - loss: 2927163648.0000 - root_mean_squared_error: 54103.2695 - val_loss: 3607421184.0000 - val_root_mean_squared_error: 60061.8125\n",
            "Epoch 65/100\n",
            "563/563 [==============================] - 1s 2ms/step - loss: 2924343808.0000 - root_mean_squared_error: 54077.2031 - val_loss: 3376493824.0000 - val_root_mean_squared_error: 58107.6055\n",
            "INFO:tensorflow:Assets written to: models/medium_nn/assets\n",
            "Epoch 66/100\n",
            "563/563 [==============================] - 1s 2ms/step - loss: 2904630784.0000 - root_mean_squared_error: 53894.6250 - val_loss: 3434502400.0000 - val_root_mean_squared_error: 58604.6289\n",
            "Epoch 67/100\n",
            "563/563 [==============================] - 1s 2ms/step - loss: 2906927360.0000 - root_mean_squared_error: 53915.9297 - val_loss: 3382190080.0000 - val_root_mean_squared_error: 58156.6016\n",
            "Epoch 68/100\n",
            "563/563 [==============================] - 1s 2ms/step - loss: 2914905344.0000 - root_mean_squared_error: 53989.8633 - val_loss: 3348745728.0000 - val_root_mean_squared_error: 57868.3477\n",
            "INFO:tensorflow:Assets written to: models/medium_nn/assets\n",
            "Epoch 69/100\n",
            "563/563 [==============================] - 1s 2ms/step - loss: 2897053696.0000 - root_mean_squared_error: 53824.2852 - val_loss: 3374337536.0000 - val_root_mean_squared_error: 58089.0469\n",
            "Epoch 70/100\n",
            "563/563 [==============================] - 1s 2ms/step - loss: 2870013952.0000 - root_mean_squared_error: 53572.5117 - val_loss: 3455131648.0000 - val_root_mean_squared_error: 58780.3672\n",
            "Epoch 71/100\n",
            "563/563 [==============================] - 1s 1ms/step - loss: 2879884544.0000 - root_mean_squared_error: 53664.5547 - val_loss: 3376659712.0000 - val_root_mean_squared_error: 58109.0312\n",
            "Epoch 72/100\n",
            "563/563 [==============================] - 1s 1ms/step - loss: 2863744512.0000 - root_mean_squared_error: 53513.9648 - val_loss: 3429579264.0000 - val_root_mean_squared_error: 58562.6094\n",
            "Epoch 73/100\n",
            "563/563 [==============================] - 1s 1ms/step - loss: 2869452800.0000 - root_mean_squared_error: 53567.2734 - val_loss: 3370895104.0000 - val_root_mean_squared_error: 58059.4102\n",
            "Epoch 74/100\n",
            "563/563 [==============================] - 1s 1ms/step - loss: 2852827136.0000 - root_mean_squared_error: 53411.8633 - val_loss: 3363590144.0000 - val_root_mean_squared_error: 57996.4648\n",
            "Epoch 75/100\n",
            "563/563 [==============================] - 1s 2ms/step - loss: 2865194496.0000 - root_mean_squared_error: 53527.5117 - val_loss: 3350041344.0000 - val_root_mean_squared_error: 57879.5430\n",
            "Epoch 76/100\n",
            "563/563 [==============================] - 1s 2ms/step - loss: 2845403648.0000 - root_mean_squared_error: 53342.3242 - val_loss: 3284344576.0000 - val_root_mean_squared_error: 57309.2031\n",
            "INFO:tensorflow:Assets written to: models/medium_nn/assets\n",
            "Epoch 77/100\n",
            "563/563 [==============================] - 1s 1ms/step - loss: 2857870336.0000 - root_mean_squared_error: 53459.0547 - val_loss: 3289203456.0000 - val_root_mean_squared_error: 57351.5781\n",
            "Epoch 78/100\n",
            "563/563 [==============================] - 1s 2ms/step - loss: 2865327616.0000 - root_mean_squared_error: 53528.7539 - val_loss: 3349411840.0000 - val_root_mean_squared_error: 57874.1016\n",
            "Epoch 79/100\n",
            "563/563 [==============================] - 1s 1ms/step - loss: 2819406848.0000 - root_mean_squared_error: 53098.0859 - val_loss: 3260754176.0000 - val_root_mean_squared_error: 57103.0156\n",
            "INFO:tensorflow:Assets written to: models/medium_nn/assets\n",
            "Epoch 80/100\n",
            "563/563 [==============================] - 1s 2ms/step - loss: 2843797248.0000 - root_mean_squared_error: 53327.2656 - val_loss: 3303066368.0000 - val_root_mean_squared_error: 57472.3086\n",
            "Epoch 81/100\n",
            "563/563 [==============================] - 1s 1ms/step - loss: 2830512896.0000 - root_mean_squared_error: 53202.5664 - val_loss: 3337650432.0000 - val_root_mean_squared_error: 57772.4023\n",
            "Epoch 82/100\n",
            "563/563 [==============================] - 1s 2ms/step - loss: 2840523264.0000 - root_mean_squared_error: 53296.5586 - val_loss: 3375819264.0000 - val_root_mean_squared_error: 58101.8008\n",
            "Epoch 83/100\n",
            "563/563 [==============================] - 1s 2ms/step - loss: 2830580480.0000 - root_mean_squared_error: 53203.1992 - val_loss: 3315886080.0000 - val_root_mean_squared_error: 57583.7305\n",
            "Epoch 84/100\n",
            "563/563 [==============================] - 1s 2ms/step - loss: 2809646336.0000 - root_mean_squared_error: 53006.0977 - val_loss: 3457445632.0000 - val_root_mean_squared_error: 58800.0469\n",
            "Epoch 85/100\n",
            "563/563 [==============================] - 1s 2ms/step - loss: 2807587840.0000 - root_mean_squared_error: 52986.6758 - val_loss: 3380041984.0000 - val_root_mean_squared_error: 58138.1289\n",
            "Epoch 86/100\n",
            "563/563 [==============================] - 1s 1ms/step - loss: 2837310208.0000 - root_mean_squared_error: 53266.4062 - val_loss: 3342583808.0000 - val_root_mean_squared_error: 57815.0820\n",
            "Epoch 87/100\n",
            "563/563 [==============================] - 1s 2ms/step - loss: 2803716352.0000 - root_mean_squared_error: 52950.1289 - val_loss: 3303863040.0000 - val_root_mean_squared_error: 57479.2383\n",
            "Epoch 88/100\n",
            "563/563 [==============================] - 1s 2ms/step - loss: 2812886016.0000 - root_mean_squared_error: 53036.6484 - val_loss: 3284343040.0000 - val_root_mean_squared_error: 57309.1875\n",
            "Epoch 89/100\n",
            "563/563 [==============================] - 1s 2ms/step - loss: 2808505856.0000 - root_mean_squared_error: 52995.3398 - val_loss: 3281822464.0000 - val_root_mean_squared_error: 57287.1914\n",
            "Epoch 90/100\n",
            "563/563 [==============================] - 1s 2ms/step - loss: 2799076096.0000 - root_mean_squared_error: 52906.2969 - val_loss: 3345722880.0000 - val_root_mean_squared_error: 57842.2227\n",
            "Epoch 91/100\n",
            "563/563 [==============================] - 1s 2ms/step - loss: 2782909952.0000 - root_mean_squared_error: 52753.2930 - val_loss: 3279399424.0000 - val_root_mean_squared_error: 57266.0391\n",
            "Epoch 92/100\n",
            "563/563 [==============================] - 1s 2ms/step - loss: 2798072320.0000 - root_mean_squared_error: 52896.8086 - val_loss: 3282526976.0000 - val_root_mean_squared_error: 57293.3398\n",
            "Epoch 93/100\n",
            "563/563 [==============================] - 1s 2ms/step - loss: 2797720064.0000 - root_mean_squared_error: 52893.4766 - val_loss: 3372529408.0000 - val_root_mean_squared_error: 58073.4844\n",
            "Epoch 94/100\n",
            "563/563 [==============================] - 1s 2ms/step - loss: 2803792640.0000 - root_mean_squared_error: 52950.8516 - val_loss: 3291957760.0000 - val_root_mean_squared_error: 57375.5859\n",
            "Epoch 95/100\n",
            "563/563 [==============================] - 1s 2ms/step - loss: 2787447296.0000 - root_mean_squared_error: 52796.2812 - val_loss: 3198854656.0000 - val_root_mean_squared_error: 56558.4180\n",
            "INFO:tensorflow:Assets written to: models/medium_nn/assets\n",
            "Epoch 96/100\n",
            "563/563 [==============================] - 1s 2ms/step - loss: 2786693888.0000 - root_mean_squared_error: 52789.1445 - val_loss: 3369585664.0000 - val_root_mean_squared_error: 58048.1328\n",
            "Epoch 97/100\n",
            "563/563 [==============================] - 1s 2ms/step - loss: 2777399040.0000 - root_mean_squared_error: 52701.0352 - val_loss: 3462158080.0000 - val_root_mean_squared_error: 58840.1055\n",
            "Epoch 98/100\n",
            "563/563 [==============================] - 1s 2ms/step - loss: 2767810560.0000 - root_mean_squared_error: 52609.9844 - val_loss: 3305440768.0000 - val_root_mean_squared_error: 57492.9609\n",
            "Epoch 99/100\n",
            "563/563 [==============================] - 1s 2ms/step - loss: 2787103232.0000 - root_mean_squared_error: 52793.0234 - val_loss: 3250316800.0000 - val_root_mean_squared_error: 57011.5508\n",
            "Epoch 100/100\n",
            "563/563 [==============================] - 1s 2ms/step - loss: 2742527488.0000 - root_mean_squared_error: 52369.1445 - val_loss: 3363976448.0000 - val_root_mean_squared_error: 57999.7969\n"
          ]
        },
        {
          "output_type": "execute_result",
          "data": {
            "text/plain": [
              "<keras.callbacks.History at 0x7f823f717f90>"
            ]
          },
          "metadata": {},
          "execution_count": 59
        }
      ]
    },
    {
      "cell_type": "code",
      "metadata": {
        "colab": {
          "base_uri": "https://localhost:8080/"
        },
        "id": "xLOV710RinPn",
        "outputId": "2cf8802a-f901-4e1e-8b4e-71a1dd0207c1"
      },
      "source": [
        "medium_nn = load_model('models/medium_nn')\n",
        "mse(medium_nn.predict(X_train),y_train, squared=False),mse(medium_nn.predict(X_val),y_val,squared =False)"
      ],
      "execution_count": 60,
      "outputs": [
        {
          "output_type": "execute_result",
          "data": {
            "text/plain": [
              "(51890.27452099909, 56558.41745439407)"
            ]
          },
          "metadata": {},
          "execution_count": 60
        }
      ]
    },
    {
      "cell_type": "code",
      "metadata": {
        "colab": {
          "base_uri": "https://localhost:8080/"
        },
        "id": "_fykXdwTkJbl",
        "outputId": "5819983d-bf23-4693-a82e-436765539348"
      },
      "source": [
        "large_nn = Sequential()\n",
        "large_nn.add(InputLayer((13,)))\n",
        "large_nn.add(Dense(256,'relu'))\n",
        "large_nn.add(Dense(128,'relu'))\n",
        "large_nn.add(Dense(64,'relu'))\n",
        "large_nn.add(Dense(32,'relu'))\n",
        "large_nn.add(Dense(1,'linear'))\n",
        "\n",
        "opt = Adam(learning_rate=0.1)\n",
        "cp = ModelCheckpoint('models/large_nn',save_best_only=True)\n",
        "large_nn.compile(optimizer = opt,loss='mse',metrics=[RootMeanSquaredError()])\n",
        "large_nn.fit(x=X_train, y=y_train, validation_data =(X_val,y_val), callbacks=[cp],epochs=100)"
      ],
      "execution_count": 61,
      "outputs": [
        {
          "output_type": "stream",
          "name": "stdout",
          "text": [
            "Epoch 1/100\n",
            "563/563 [==============================] - 2s 2ms/step - loss: 6675922432.0000 - root_mean_squared_error: 81706.3203 - val_loss: 5408464896.0000 - val_root_mean_squared_error: 73542.2656\n",
            "INFO:tensorflow:Assets written to: models/large_nn/assets\n",
            "Epoch 2/100\n",
            "563/563 [==============================] - 1s 2ms/step - loss: 4809247744.0000 - root_mean_squared_error: 69348.7422 - val_loss: 4329794560.0000 - val_root_mean_squared_error: 65801.1719\n",
            "INFO:tensorflow:Assets written to: models/large_nn/assets\n",
            "Epoch 3/100\n",
            "563/563 [==============================] - 1s 2ms/step - loss: 3978686976.0000 - root_mean_squared_error: 63076.8320 - val_loss: 4080255488.0000 - val_root_mean_squared_error: 63876.8789\n",
            "INFO:tensorflow:Assets written to: models/large_nn/assets\n",
            "Epoch 4/100\n",
            "563/563 [==============================] - 1s 2ms/step - loss: 4008180480.0000 - root_mean_squared_error: 63310.1914 - val_loss: 4290399744.0000 - val_root_mean_squared_error: 65501.1445\n",
            "Epoch 5/100\n",
            "563/563 [==============================] - 1s 2ms/step - loss: 3846350848.0000 - root_mean_squared_error: 62018.9570 - val_loss: 4130295296.0000 - val_root_mean_squared_error: 64267.3750\n",
            "Epoch 6/100\n",
            "563/563 [==============================] - 1s 2ms/step - loss: 3774982912.0000 - root_mean_squared_error: 61440.8906 - val_loss: 3812839680.0000 - val_root_mean_squared_error: 61748.1953\n",
            "INFO:tensorflow:Assets written to: models/large_nn/assets\n",
            "Epoch 7/100\n",
            "563/563 [==============================] - 1s 2ms/step - loss: 3438146560.0000 - root_mean_squared_error: 58635.7109 - val_loss: 4562831360.0000 - val_root_mean_squared_error: 67548.7344\n",
            "Epoch 8/100\n",
            "563/563 [==============================] - 1s 2ms/step - loss: 3699684352.0000 - root_mean_squared_error: 60825.0312 - val_loss: 3579840512.0000 - val_root_mean_squared_error: 59831.7695\n",
            "INFO:tensorflow:Assets written to: models/large_nn/assets\n",
            "Epoch 9/100\n",
            "563/563 [==============================] - 1s 2ms/step - loss: 3417158656.0000 - root_mean_squared_error: 58456.4688 - val_loss: 3609666048.0000 - val_root_mean_squared_error: 60080.4961\n",
            "Epoch 10/100\n",
            "563/563 [==============================] - 1s 2ms/step - loss: 3254775040.0000 - root_mean_squared_error: 57050.6367 - val_loss: 4714137600.0000 - val_root_mean_squared_error: 68659.5781\n",
            "Epoch 11/100\n",
            "563/563 [==============================] - 1s 2ms/step - loss: 3265476096.0000 - root_mean_squared_error: 57144.3438 - val_loss: 3491399680.0000 - val_root_mean_squared_error: 59088.0664\n",
            "INFO:tensorflow:Assets written to: models/large_nn/assets\n",
            "Epoch 12/100\n",
            "563/563 [==============================] - 1s 2ms/step - loss: 3215414784.0000 - root_mean_squared_error: 56704.6289 - val_loss: 3443244544.0000 - val_root_mean_squared_error: 58679.1680\n",
            "INFO:tensorflow:Assets written to: models/large_nn/assets\n",
            "Epoch 13/100\n",
            "563/563 [==============================] - 1s 2ms/step - loss: 3171353600.0000 - root_mean_squared_error: 56314.7734 - val_loss: 3328733440.0000 - val_root_mean_squared_error: 57695.1758\n",
            "INFO:tensorflow:Assets written to: models/large_nn/assets\n",
            "Epoch 14/100\n",
            "563/563 [==============================] - 1s 2ms/step - loss: 3073364736.0000 - root_mean_squared_error: 55437.9375 - val_loss: 3542125056.0000 - val_root_mean_squared_error: 59515.7539\n",
            "Epoch 15/100\n",
            "563/563 [==============================] - 1s 2ms/step - loss: 3105211136.0000 - root_mean_squared_error: 55724.4219 - val_loss: 3249715456.0000 - val_root_mean_squared_error: 57006.2773\n",
            "INFO:tensorflow:Assets written to: models/large_nn/assets\n",
            "Epoch 16/100\n",
            "563/563 [==============================] - 1s 2ms/step - loss: 3038221824.0000 - root_mean_squared_error: 55120.0664 - val_loss: 3597281792.0000 - val_root_mean_squared_error: 59977.3438\n",
            "Epoch 17/100\n",
            "563/563 [==============================] - 1s 2ms/step - loss: 2948839424.0000 - root_mean_squared_error: 54303.2188 - val_loss: 3337118208.0000 - val_root_mean_squared_error: 57767.7969\n",
            "Epoch 18/100\n",
            "563/563 [==============================] - 1s 2ms/step - loss: 3021082880.0000 - root_mean_squared_error: 54964.3789 - val_loss: 3951097600.0000 - val_root_mean_squared_error: 62857.7578\n",
            "Epoch 19/100\n",
            "563/563 [==============================] - 1s 2ms/step - loss: 2969482752.0000 - root_mean_squared_error: 54492.9609 - val_loss: 3273260288.0000 - val_root_mean_squared_error: 57212.4141\n",
            "Epoch 20/100\n",
            "563/563 [==============================] - 1s 2ms/step - loss: 2922012416.0000 - root_mean_squared_error: 54055.6406 - val_loss: 3282327808.0000 - val_root_mean_squared_error: 57291.6016\n",
            "Epoch 21/100\n",
            "563/563 [==============================] - 1s 2ms/step - loss: 2956318208.0000 - root_mean_squared_error: 54372.0352 - val_loss: 4027632128.0000 - val_root_mean_squared_error: 63463.6289\n",
            "Epoch 22/100\n",
            "563/563 [==============================] - 1s 2ms/step - loss: 2844850176.0000 - root_mean_squared_error: 53337.1367 - val_loss: 3426265344.0000 - val_root_mean_squared_error: 58534.3086\n",
            "Epoch 23/100\n",
            "563/563 [==============================] - 1s 2ms/step - loss: 2890790400.0000 - root_mean_squared_error: 53766.0703 - val_loss: 3271525376.0000 - val_root_mean_squared_error: 57197.2500\n",
            "Epoch 24/100\n",
            "563/563 [==============================] - 1s 2ms/step - loss: 2890199808.0000 - root_mean_squared_error: 53760.5781 - val_loss: 3165069312.0000 - val_root_mean_squared_error: 56258.9492\n",
            "INFO:tensorflow:Assets written to: models/large_nn/assets\n",
            "Epoch 25/100\n",
            "563/563 [==============================] - 1s 2ms/step - loss: 2841133568.0000 - root_mean_squared_error: 53302.2852 - val_loss: 3332225536.0000 - val_root_mean_squared_error: 57725.4336\n",
            "Epoch 26/100\n",
            "563/563 [==============================] - 1s 2ms/step - loss: 2828069888.0000 - root_mean_squared_error: 53179.6016 - val_loss: 3271597568.0000 - val_root_mean_squared_error: 57197.8789\n",
            "Epoch 27/100\n",
            "563/563 [==============================] - 1s 2ms/step - loss: 2794758144.0000 - root_mean_squared_error: 52865.4727 - val_loss: 3511860736.0000 - val_root_mean_squared_error: 59260.9531\n",
            "Epoch 28/100\n",
            "563/563 [==============================] - 1s 2ms/step - loss: 2761697536.0000 - root_mean_squared_error: 52551.8555 - val_loss: 3113471744.0000 - val_root_mean_squared_error: 55798.4922\n",
            "INFO:tensorflow:Assets written to: models/large_nn/assets\n",
            "Epoch 29/100\n",
            "563/563 [==============================] - 1s 2ms/step - loss: 2802056192.0000 - root_mean_squared_error: 52934.4531 - val_loss: 3304569856.0000 - val_root_mean_squared_error: 57485.3867\n",
            "Epoch 30/100\n",
            "563/563 [==============================] - 1s 2ms/step - loss: 2757360640.0000 - root_mean_squared_error: 52510.5781 - val_loss: 3038805248.0000 - val_root_mean_squared_error: 55125.3594\n",
            "INFO:tensorflow:Assets written to: models/large_nn/assets\n",
            "Epoch 31/100\n",
            "563/563 [==============================] - 1s 2ms/step - loss: 2704120576.0000 - root_mean_squared_error: 52001.1602 - val_loss: 3756307968.0000 - val_root_mean_squared_error: 61288.7266\n",
            "Epoch 32/100\n",
            "563/563 [==============================] - 1s 2ms/step - loss: 2726938368.0000 - root_mean_squared_error: 52220.0938 - val_loss: 3308599552.0000 - val_root_mean_squared_error: 57520.4258\n",
            "Epoch 33/100\n",
            "563/563 [==============================] - 1s 2ms/step - loss: 2806582016.0000 - root_mean_squared_error: 52977.1836 - val_loss: 3150691328.0000 - val_root_mean_squared_error: 56131.0195\n",
            "Epoch 34/100\n",
            "563/563 [==============================] - 1s 2ms/step - loss: 2680719616.0000 - root_mean_squared_error: 51775.6680 - val_loss: 3307071488.0000 - val_root_mean_squared_error: 57507.1445\n",
            "Epoch 35/100\n",
            "563/563 [==============================] - 1s 2ms/step - loss: 2699831040.0000 - root_mean_squared_error: 51959.8984 - val_loss: 3126720256.0000 - val_root_mean_squared_error: 55917.0820\n",
            "Epoch 36/100\n",
            "563/563 [==============================] - 1s 2ms/step - loss: 2745811456.0000 - root_mean_squared_error: 52400.4922 - val_loss: 3084512768.0000 - val_root_mean_squared_error: 55538.3906\n",
            "Epoch 37/100\n",
            "563/563 [==============================] - 1s 2ms/step - loss: 2615887104.0000 - root_mean_squared_error: 51145.7422 - val_loss: 3153534976.0000 - val_root_mean_squared_error: 56156.3438\n",
            "Epoch 38/100\n",
            "563/563 [==============================] - 1s 2ms/step - loss: 2633172736.0000 - root_mean_squared_error: 51314.4492 - val_loss: 3144516608.0000 - val_root_mean_squared_error: 56075.9883\n",
            "Epoch 39/100\n",
            "563/563 [==============================] - 1s 2ms/step - loss: 2658289408.0000 - root_mean_squared_error: 51558.6016 - val_loss: 3144525568.0000 - val_root_mean_squared_error: 56076.0703\n",
            "Epoch 40/100\n",
            "563/563 [==============================] - 1s 2ms/step - loss: 2594184960.0000 - root_mean_squared_error: 50933.1406 - val_loss: 3539707904.0000 - val_root_mean_squared_error: 59495.4453\n",
            "Epoch 41/100\n",
            "563/563 [==============================] - 1s 2ms/step - loss: 2608850944.0000 - root_mean_squared_error: 51076.9102 - val_loss: 3159457792.0000 - val_root_mean_squared_error: 56209.0547\n",
            "Epoch 42/100\n",
            "563/563 [==============================] - 1s 2ms/step - loss: 2638143232.0000 - root_mean_squared_error: 51362.8594 - val_loss: 3230079744.0000 - val_root_mean_squared_error: 56833.7891\n",
            "Epoch 43/100\n",
            "563/563 [==============================] - 1s 2ms/step - loss: 2625814528.0000 - root_mean_squared_error: 51242.7031 - val_loss: 3275604736.0000 - val_root_mean_squared_error: 57232.8984\n",
            "Epoch 44/100\n",
            "563/563 [==============================] - 1s 2ms/step - loss: 2634492928.0000 - root_mean_squared_error: 51327.3125 - val_loss: 3047764480.0000 - val_root_mean_squared_error: 55206.5625\n",
            "Epoch 45/100\n",
            "563/563 [==============================] - 1s 2ms/step - loss: 2666177536.0000 - root_mean_squared_error: 51635.0430 - val_loss: 3239354112.0000 - val_root_mean_squared_error: 56915.3242\n",
            "Epoch 46/100\n",
            "563/563 [==============================] - 1s 2ms/step - loss: 2529330432.0000 - root_mean_squared_error: 50292.4492 - val_loss: 3148755968.0000 - val_root_mean_squared_error: 56113.7773\n",
            "Epoch 47/100\n",
            "563/563 [==============================] - 1s 2ms/step - loss: 2593408000.0000 - root_mean_squared_error: 50925.5156 - val_loss: 3037655552.0000 - val_root_mean_squared_error: 55114.9297\n",
            "INFO:tensorflow:Assets written to: models/large_nn/assets\n",
            "Epoch 48/100\n",
            "563/563 [==============================] - 1s 2ms/step - loss: 2567040000.0000 - root_mean_squared_error: 50665.9648 - val_loss: 3353691392.0000 - val_root_mean_squared_error: 57911.0664\n",
            "Epoch 49/100\n",
            "563/563 [==============================] - 1s 2ms/step - loss: 2553668096.0000 - root_mean_squared_error: 50533.8320 - val_loss: 2972951296.0000 - val_root_mean_squared_error: 54524.7773\n",
            "INFO:tensorflow:Assets written to: models/large_nn/assets\n",
            "Epoch 50/100\n",
            "563/563 [==============================] - 1s 2ms/step - loss: 2516894464.0000 - root_mean_squared_error: 50168.6602 - val_loss: 3162703104.0000 - val_root_mean_squared_error: 56237.9141\n",
            "Epoch 51/100\n",
            "563/563 [==============================] - 1s 2ms/step - loss: 2530881280.0000 - root_mean_squared_error: 50307.8633 - val_loss: 3071859712.0000 - val_root_mean_squared_error: 55424.3594\n",
            "Epoch 52/100\n",
            "563/563 [==============================] - 1s 2ms/step - loss: 2545689856.0000 - root_mean_squared_error: 50454.8281 - val_loss: 3569135872.0000 - val_root_mean_squared_error: 59742.2461\n",
            "Epoch 53/100\n",
            "563/563 [==============================] - 1s 2ms/step - loss: 2504200704.0000 - root_mean_squared_error: 50041.9883 - val_loss: 3711548928.0000 - val_root_mean_squared_error: 60922.4844\n",
            "Epoch 54/100\n",
            "563/563 [==============================] - 1s 2ms/step - loss: 2509005568.0000 - root_mean_squared_error: 50089.9766 - val_loss: 3329207808.0000 - val_root_mean_squared_error: 57699.2891\n",
            "Epoch 55/100\n",
            "563/563 [==============================] - 1s 2ms/step - loss: 2491886336.0000 - root_mean_squared_error: 49918.7969 - val_loss: 3259376384.0000 - val_root_mean_squared_error: 57090.9492\n",
            "Epoch 56/100\n",
            "563/563 [==============================] - 1s 2ms/step - loss: 2454873600.0000 - root_mean_squared_error: 49546.6797 - val_loss: 3238677760.0000 - val_root_mean_squared_error: 56909.3828\n",
            "Epoch 57/100\n",
            "563/563 [==============================] - 1s 2ms/step - loss: 2486298624.0000 - root_mean_squared_error: 49862.7969 - val_loss: 3186764800.0000 - val_root_mean_squared_error: 56451.4375\n",
            "Epoch 58/100\n",
            "563/563 [==============================] - 1s 2ms/step - loss: 2494480640.0000 - root_mean_squared_error: 49944.7773 - val_loss: 3345898496.0000 - val_root_mean_squared_error: 57843.7422\n",
            "Epoch 59/100\n",
            "563/563 [==============================] - 1s 2ms/step - loss: 2417905408.0000 - root_mean_squared_error: 49172.2031 - val_loss: 3096530688.0000 - val_root_mean_squared_error: 55646.4805\n",
            "Epoch 60/100\n",
            "563/563 [==============================] - 1s 2ms/step - loss: 2461933568.0000 - root_mean_squared_error: 49617.8750 - val_loss: 3084153344.0000 - val_root_mean_squared_error: 55535.1523\n",
            "Epoch 61/100\n",
            "563/563 [==============================] - 1s 2ms/step - loss: 2419179520.0000 - root_mean_squared_error: 49185.1562 - val_loss: 3352450048.0000 - val_root_mean_squared_error: 57900.3477\n",
            "Epoch 62/100\n",
            "563/563 [==============================] - 1s 2ms/step - loss: 2454976256.0000 - root_mean_squared_error: 49547.7188 - val_loss: 3069991680.0000 - val_root_mean_squared_error: 55407.5039\n",
            "Epoch 63/100\n",
            "563/563 [==============================] - 1s 2ms/step - loss: 2416158976.0000 - root_mean_squared_error: 49154.4414 - val_loss: 3050369024.0000 - val_root_mean_squared_error: 55230.1445\n",
            "Epoch 64/100\n",
            "563/563 [==============================] - 1s 2ms/step - loss: 2440547584.0000 - root_mean_squared_error: 49401.8984 - val_loss: 3067194880.0000 - val_root_mean_squared_error: 55382.2617\n",
            "Epoch 65/100\n",
            "563/563 [==============================] - 1s 2ms/step - loss: 2435639808.0000 - root_mean_squared_error: 49352.2031 - val_loss: 3241273856.0000 - val_root_mean_squared_error: 56932.1875\n",
            "Epoch 66/100\n",
            "563/563 [==============================] - 1s 2ms/step - loss: 2424989952.0000 - root_mean_squared_error: 49244.1875 - val_loss: 3219488256.0000 - val_root_mean_squared_error: 56740.5352\n",
            "Epoch 67/100\n",
            "563/563 [==============================] - 1s 2ms/step - loss: 2456607232.0000 - root_mean_squared_error: 49564.1719 - val_loss: 3031614720.0000 - val_root_mean_squared_error: 55060.1016\n",
            "Epoch 68/100\n",
            "563/563 [==============================] - 1s 2ms/step - loss: 2392507136.0000 - root_mean_squared_error: 48913.2617 - val_loss: 3236320512.0000 - val_root_mean_squared_error: 56888.6680\n",
            "Epoch 69/100\n",
            "563/563 [==============================] - 1s 2ms/step - loss: 2396147968.0000 - root_mean_squared_error: 48950.4648 - val_loss: 3152422656.0000 - val_root_mean_squared_error: 56146.4375\n",
            "Epoch 70/100\n",
            "563/563 [==============================] - 1s 2ms/step - loss: 2454230016.0000 - root_mean_squared_error: 49540.1875 - val_loss: 3102143744.0000 - val_root_mean_squared_error: 55696.8906\n",
            "Epoch 71/100\n",
            "563/563 [==============================] - 1s 2ms/step - loss: 2408055040.0000 - root_mean_squared_error: 49071.9375 - val_loss: 3088919808.0000 - val_root_mean_squared_error: 55578.0508\n",
            "Epoch 72/100\n",
            "563/563 [==============================] - 1s 2ms/step - loss: 2369093888.0000 - root_mean_squared_error: 48673.3398 - val_loss: 3002449920.0000 - val_root_mean_squared_error: 54794.6172\n",
            "Epoch 73/100\n",
            "563/563 [==============================] - 1s 2ms/step - loss: 2356855040.0000 - root_mean_squared_error: 48547.4531 - val_loss: 3091869952.0000 - val_root_mean_squared_error: 55604.5859\n",
            "Epoch 74/100\n",
            "563/563 [==============================] - 1s 2ms/step - loss: 2366497792.0000 - root_mean_squared_error: 48646.6641 - val_loss: 2966430208.0000 - val_root_mean_squared_error: 54464.9453\n",
            "INFO:tensorflow:Assets written to: models/large_nn/assets\n",
            "Epoch 75/100\n",
            "563/563 [==============================] - 1s 2ms/step - loss: 2373590016.0000 - root_mean_squared_error: 48719.5039 - val_loss: 2883186176.0000 - val_root_mean_squared_error: 53695.3086\n",
            "INFO:tensorflow:Assets written to: models/large_nn/assets\n",
            "Epoch 76/100\n",
            "563/563 [==============================] - 1s 2ms/step - loss: 2341478400.0000 - root_mean_squared_error: 48388.8242 - val_loss: 3158086656.0000 - val_root_mean_squared_error: 56196.8555\n",
            "Epoch 77/100\n",
            "563/563 [==============================] - 1s 2ms/step - loss: 2385209088.0000 - root_mean_squared_error: 48838.6016 - val_loss: 3308963328.0000 - val_root_mean_squared_error: 57523.5898\n",
            "Epoch 78/100\n",
            "563/563 [==============================] - 1s 2ms/step - loss: 2435821312.0000 - root_mean_squared_error: 49354.0391 - val_loss: 2881533440.0000 - val_root_mean_squared_error: 53679.9180\n",
            "INFO:tensorflow:Assets written to: models/large_nn/assets\n",
            "Epoch 79/100\n",
            "563/563 [==============================] - 1s 2ms/step - loss: 2367527168.0000 - root_mean_squared_error: 48657.2422 - val_loss: 2869096704.0000 - val_root_mean_squared_error: 53563.9492\n",
            "INFO:tensorflow:Assets written to: models/large_nn/assets\n",
            "Epoch 80/100\n",
            "563/563 [==============================] - 1s 2ms/step - loss: 2414154240.0000 - root_mean_squared_error: 49134.0430 - val_loss: 3301085440.0000 - val_root_mean_squared_error: 57455.0742\n",
            "Epoch 81/100\n",
            "563/563 [==============================] - 1s 2ms/step - loss: 2327621888.0000 - root_mean_squared_error: 48245.4336 - val_loss: 3009836288.0000 - val_root_mean_squared_error: 54861.9766\n",
            "Epoch 82/100\n",
            "563/563 [==============================] - 1s 2ms/step - loss: 2284434944.0000 - root_mean_squared_error: 47795.7617 - val_loss: 3091055616.0000 - val_root_mean_squared_error: 55597.2617\n",
            "Epoch 83/100\n",
            "563/563 [==============================] - 1s 2ms/step - loss: 2308651264.0000 - root_mean_squared_error: 48048.4258 - val_loss: 3109049088.0000 - val_root_mean_squared_error: 55758.8477\n",
            "Epoch 84/100\n",
            "563/563 [==============================] - 1s 2ms/step - loss: 2326683648.0000 - root_mean_squared_error: 48235.7109 - val_loss: 3221053440.0000 - val_root_mean_squared_error: 56754.3242\n",
            "Epoch 85/100\n",
            "563/563 [==============================] - 1s 2ms/step - loss: 2319896832.0000 - root_mean_squared_error: 48165.3086 - val_loss: 2981540352.0000 - val_root_mean_squared_error: 54603.4844\n",
            "Epoch 86/100\n",
            "563/563 [==============================] - 1s 2ms/step - loss: 2284491264.0000 - root_mean_squared_error: 47796.3516 - val_loss: 3017305856.0000 - val_root_mean_squared_error: 54930.0078\n",
            "Epoch 87/100\n",
            "563/563 [==============================] - 1s 2ms/step - loss: 2343865856.0000 - root_mean_squared_error: 48413.4883 - val_loss: 3027173376.0000 - val_root_mean_squared_error: 55019.7539\n",
            "Epoch 88/100\n",
            "563/563 [==============================] - 1s 2ms/step - loss: 2299011840.0000 - root_mean_squared_error: 47948.0117 - val_loss: 2876582400.0000 - val_root_mean_squared_error: 53633.7812\n",
            "Epoch 89/100\n",
            "563/563 [==============================] - 1s 2ms/step - loss: 2304170240.0000 - root_mean_squared_error: 48001.7734 - val_loss: 3028196096.0000 - val_root_mean_squared_error: 55029.0469\n",
            "Epoch 90/100\n",
            "563/563 [==============================] - 1s 2ms/step - loss: 2323170304.0000 - root_mean_squared_error: 48199.2773 - val_loss: 3225747200.0000 - val_root_mean_squared_error: 56795.6602\n",
            "Epoch 91/100\n",
            "563/563 [==============================] - 1s 2ms/step - loss: 2314186240.0000 - root_mean_squared_error: 48105.9883 - val_loss: 3151639552.0000 - val_root_mean_squared_error: 56139.4648\n",
            "Epoch 92/100\n",
            "563/563 [==============================] - 1s 2ms/step - loss: 2258594048.0000 - root_mean_squared_error: 47524.6680 - val_loss: 2925535744.0000 - val_root_mean_squared_error: 54088.2227\n",
            "Epoch 93/100\n",
            "563/563 [==============================] - 1s 2ms/step - loss: 2306394624.0000 - root_mean_squared_error: 48024.9375 - val_loss: 3102632960.0000 - val_root_mean_squared_error: 55701.2852\n",
            "Epoch 94/100\n",
            "563/563 [==============================] - 1s 2ms/step - loss: 2288369664.0000 - root_mean_squared_error: 47836.9062 - val_loss: 2973042688.0000 - val_root_mean_squared_error: 54525.6133\n",
            "Epoch 95/100\n",
            "563/563 [==============================] - 1s 2ms/step - loss: 2252167168.0000 - root_mean_squared_error: 47457.0039 - val_loss: 3057924096.0000 - val_root_mean_squared_error: 55298.5000\n",
            "Epoch 96/100\n",
            "563/563 [==============================] - 1s 2ms/step - loss: 2337598976.0000 - root_mean_squared_error: 48348.7227 - val_loss: 2916500224.0000 - val_root_mean_squared_error: 54004.6328\n",
            "Epoch 97/100\n",
            "563/563 [==============================] - 1s 2ms/step - loss: 2247553536.0000 - root_mean_squared_error: 47408.3711 - val_loss: 2882046976.0000 - val_root_mean_squared_error: 53684.6992\n",
            "Epoch 98/100\n",
            "563/563 [==============================] - 1s 2ms/step - loss: 2268168448.0000 - root_mean_squared_error: 47625.2930 - val_loss: 3120374272.0000 - val_root_mean_squared_error: 55860.3086\n",
            "Epoch 99/100\n",
            "563/563 [==============================] - 1s 2ms/step - loss: 2260339456.0000 - root_mean_squared_error: 47543.0273 - val_loss: 2938984960.0000 - val_root_mean_squared_error: 54212.4062\n",
            "Epoch 100/100\n",
            "563/563 [==============================] - 1s 2ms/step - loss: 2282241536.0000 - root_mean_squared_error: 47772.8125 - val_loss: 3053704704.0000 - val_root_mean_squared_error: 55260.3359\n"
          ]
        },
        {
          "output_type": "execute_result",
          "data": {
            "text/plain": [
              "<keras.callbacks.History at 0x7f8241e69910>"
            ]
          },
          "metadata": {},
          "execution_count": 61
        }
      ]
    },
    {
      "cell_type": "code",
      "metadata": {
        "colab": {
          "base_uri": "https://localhost:8080/"
        },
        "id": "VYAdrnhLki3C",
        "outputId": "01e53e95-5bac-4af7-89c7-50fb1802c219"
      },
      "source": [
        "large_nn = load_model('models/large_nn')\n",
        "mse(large_nn.predict(X_train),y_train, squared=False),mse(large_nn.predict(X_val),y_val,squared =False)"
      ],
      "execution_count": 62,
      "outputs": [
        {
          "output_type": "execute_result",
          "data": {
            "text/plain": [
              "(45921.266349237936, 53563.94993505451)"
            ]
          },
          "metadata": {},
          "execution_count": 62
        }
      ]
    },
    {
      "cell_type": "code",
      "metadata": {
        "colab": {
          "base_uri": "https://localhost:8080/"
        },
        "id": "EZ7MbH3SlQ2D",
        "outputId": "2b727dcf-1f0f-450b-f3be-4b045aac025b"
      },
      "source": [
        "mse(gbr.predict(X_test),y_test, squared=False)"
      ],
      "execution_count": 63,
      "outputs": [
        {
          "output_type": "execute_result",
          "data": {
            "text/plain": [
              "49305.8574865452"
            ]
          },
          "metadata": {},
          "execution_count": 63
        }
      ]
    },
    {
      "cell_type": "code",
      "metadata": {
        "id": "JSn3S3oZl5UG"
      },
      "source": [
        ""
      ],
      "execution_count": null,
      "outputs": []
    }
  ]
}